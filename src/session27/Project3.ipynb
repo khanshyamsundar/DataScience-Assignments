{
 "cells": [
  {
   "cell_type": "markdown",
   "metadata": {},
   "source": [
    "# Application of classification model"
   ]
  },
  {
   "cell_type": "markdown",
   "metadata": {},
   "source": [
    "This data was extracted from the census bureau database found at\n",
    "http://www.census.gov/ftp/pub/DES/www/welcome.html\n",
    "Donor: Ronny Kohavi and Barry Becker,\n",
    "Data Mining and Visualization\n",
    "Silicon Graphics.\n",
    "e-mail: ronnyk@sgi.com for questions.\n",
    "Split into train-test using MLC++ GenCVFiles (2/3, 1/3 random).\n",
    "48842 instances, mix of continuous and discrete (train=32561, test=16281)\n",
    "45222 if instances with unknown values are removed (train=30162, test=15060)\n",
    "Duplicate or conflicting instances : 6\n",
    "Class probabilities for adult.all file\n",
    "Probability for the label '>50K' : 23.93% / 24.78% (without unknowns)\n",
    "Probability for the label '<=50K' : 76.07% / 75.22% (without unknowns)\n",
    "\n",
    "Extraction was done by Barry Becker from the 1994 Census database. A set of\n",
    "reasonably clean records was extracted using the following conditions:\n",
    "((AAGE>16) && (AGI>100) && (AFNLWGT>1)&& (HRSWK>0)) Prediction task is to\n",
    "determine whether a person makes over 50K a year. Conversion of original data as\n",
    "follows:\n",
    "1. Discretized a gross income into two ranges with threshold 50,000.\n",
    "2. Convert U.S. to US to avoid periods.\n",
    "3. Convert Unknown to \"?\"\n",
    "4. Run MLC++ GenCVFiles to generate data,test.\n",
    "Description of fnlwgt (final weight)\n",
    "The weights on the CPS files are controlled to independent estimates of the civilian\n",
    "noninstitutional population of the US. These are prepared monthly for us by Population\n",
    "Division here at the Census Bureau. We use 3 sets of controls.\n",
    "These are:\n",
    "1. A single cell estimate of the population 16+ for each state.\n",
    "2. Controls for Hispanic Origin by age and sex.\n",
    "3. Controls by Race, age and sex.\n",
    "We use all three sets of controls in our weighting program and \"rake\" through them 6\n",
    "times so that by the end we come back to all the controls we used.\n",
    "The term estimate refers to population totals derived from CPS by creating \"weighted\n",
    "tallies\" of any specified socio-economic characteristics of the population. People with\n",
    "similar demographic characteristics should have similar weights. There is one important\n",
    "caveat to remember about this statement. That is that since the CPS sample is actually a\n",
    "collection of 51 state samples, each with its own probability of selection, the statement\n",
    "only applies within state."
   ]
  },
  {
   "cell_type": "markdown",
   "metadata": {},
   "source": [
    "## Importing libraries"
   ]
  },
  {
   "cell_type": "code",
   "execution_count": 60,
   "metadata": {},
   "outputs": [],
   "source": [
    "import numpy as np\n",
    "import pandas as pd\n",
    "import seaborn as sns\n",
    "import matplotlib.pyplot as plt\n",
    "%matplotlib inline\n",
    "\n",
    "import sklearn.ensemble as ske\n",
    "from sklearn import datasets, model_selection, tree, preprocessing, metrics, linear_model\n",
    "from sklearn.ensemble import RandomForestClassifier, GradientBoostingClassifier, BaggingClassifier\n",
    "from sklearn.neighbors import KNeighborsClassifier\n",
    "from sklearn.linear_model import LinearRegression, LogisticRegression, Ridge, Lasso\n",
    "from sklearn.tree import DecisionTreeClassifier\n",
    "from sklearn.metrics import precision_recall_fscore_support, roc_curve, auc, classification_report\n",
    "from sklearn.model_selection import cross_val_score\n",
    "from sklearn.feature_selection import RFE, RFECV"
   ]
  },
  {
   "cell_type": "markdown",
   "metadata": {},
   "source": [
    "## Load data"
   ]
  },
  {
   "cell_type": "code",
   "execution_count": 61,
   "metadata": {},
   "outputs": [],
   "source": [
    "train_set = pd.read_csv('http://archive.ics.uci.edu/ml/machine-learning-databases/adult/adult.data', header = None,na_values=\"?\")\n",
    "\n",
    "test_set = pd.read_csv('http://archive.ics.uci.edu/ml/machine-learning-databases/adult/adult.test', skiprows = 1, header = None,na_values=\"?\")\n",
    "\n",
    "col_labels = ['age', 'workclass', 'fnlwgt', 'education', 'education_num', 'marital_status',\n",
    "'occupation','relationship', 'race', 'sex', 'capital_gain', 'capital_loss', 'hours_per_week',\n",
    "'native_country', 'wage_class']\n",
    "train_set.columns = col_labels\n",
    "test_set.columns = col_labels"
   ]
  },
  {
   "cell_type": "code",
   "execution_count": 62,
   "metadata": {},
   "outputs": [
    {
     "name": "stdout",
     "output_type": "stream",
     "text": [
      "(32561, 15)\n",
      "(16281, 15)\n"
     ]
    }
   ],
   "source": [
    "print(train_set.shape)\n",
    "print(test_set.shape)"
   ]
  },
  {
   "cell_type": "markdown",
   "metadata": {},
   "source": [
    "## View train and test data"
   ]
  },
  {
   "cell_type": "code",
   "execution_count": 63,
   "metadata": {},
   "outputs": [
    {
     "data": {
      "text/html": [
       "<div>\n",
       "<style scoped>\n",
       "    .dataframe tbody tr th:only-of-type {\n",
       "        vertical-align: middle;\n",
       "    }\n",
       "\n",
       "    .dataframe tbody tr th {\n",
       "        vertical-align: top;\n",
       "    }\n",
       "\n",
       "    .dataframe thead th {\n",
       "        text-align: right;\n",
       "    }\n",
       "</style>\n",
       "<table border=\"1\" class=\"dataframe\">\n",
       "  <thead>\n",
       "    <tr style=\"text-align: right;\">\n",
       "      <th></th>\n",
       "      <th>age</th>\n",
       "      <th>workclass</th>\n",
       "      <th>fnlwgt</th>\n",
       "      <th>education</th>\n",
       "      <th>education_num</th>\n",
       "      <th>marital_status</th>\n",
       "      <th>occupation</th>\n",
       "      <th>relationship</th>\n",
       "      <th>race</th>\n",
       "      <th>sex</th>\n",
       "      <th>capital_gain</th>\n",
       "      <th>capital_loss</th>\n",
       "      <th>hours_per_week</th>\n",
       "      <th>native_country</th>\n",
       "      <th>wage_class</th>\n",
       "    </tr>\n",
       "  </thead>\n",
       "  <tbody>\n",
       "    <tr>\n",
       "      <th>0</th>\n",
       "      <td>39</td>\n",
       "      <td>State-gov</td>\n",
       "      <td>77516</td>\n",
       "      <td>Bachelors</td>\n",
       "      <td>13</td>\n",
       "      <td>Never-married</td>\n",
       "      <td>Adm-clerical</td>\n",
       "      <td>Not-in-family</td>\n",
       "      <td>White</td>\n",
       "      <td>Male</td>\n",
       "      <td>2174</td>\n",
       "      <td>0</td>\n",
       "      <td>40</td>\n",
       "      <td>United-States</td>\n",
       "      <td>&lt;=50K</td>\n",
       "    </tr>\n",
       "    <tr>\n",
       "      <th>1</th>\n",
       "      <td>50</td>\n",
       "      <td>Self-emp-not-inc</td>\n",
       "      <td>83311</td>\n",
       "      <td>Bachelors</td>\n",
       "      <td>13</td>\n",
       "      <td>Married-civ-spouse</td>\n",
       "      <td>Exec-managerial</td>\n",
       "      <td>Husband</td>\n",
       "      <td>White</td>\n",
       "      <td>Male</td>\n",
       "      <td>0</td>\n",
       "      <td>0</td>\n",
       "      <td>13</td>\n",
       "      <td>United-States</td>\n",
       "      <td>&lt;=50K</td>\n",
       "    </tr>\n",
       "    <tr>\n",
       "      <th>2</th>\n",
       "      <td>38</td>\n",
       "      <td>Private</td>\n",
       "      <td>215646</td>\n",
       "      <td>HS-grad</td>\n",
       "      <td>9</td>\n",
       "      <td>Divorced</td>\n",
       "      <td>Handlers-cleaners</td>\n",
       "      <td>Not-in-family</td>\n",
       "      <td>White</td>\n",
       "      <td>Male</td>\n",
       "      <td>0</td>\n",
       "      <td>0</td>\n",
       "      <td>40</td>\n",
       "      <td>United-States</td>\n",
       "      <td>&lt;=50K</td>\n",
       "    </tr>\n",
       "    <tr>\n",
       "      <th>3</th>\n",
       "      <td>53</td>\n",
       "      <td>Private</td>\n",
       "      <td>234721</td>\n",
       "      <td>11th</td>\n",
       "      <td>7</td>\n",
       "      <td>Married-civ-spouse</td>\n",
       "      <td>Handlers-cleaners</td>\n",
       "      <td>Husband</td>\n",
       "      <td>Black</td>\n",
       "      <td>Male</td>\n",
       "      <td>0</td>\n",
       "      <td>0</td>\n",
       "      <td>40</td>\n",
       "      <td>United-States</td>\n",
       "      <td>&lt;=50K</td>\n",
       "    </tr>\n",
       "    <tr>\n",
       "      <th>4</th>\n",
       "      <td>28</td>\n",
       "      <td>Private</td>\n",
       "      <td>338409</td>\n",
       "      <td>Bachelors</td>\n",
       "      <td>13</td>\n",
       "      <td>Married-civ-spouse</td>\n",
       "      <td>Prof-specialty</td>\n",
       "      <td>Wife</td>\n",
       "      <td>Black</td>\n",
       "      <td>Female</td>\n",
       "      <td>0</td>\n",
       "      <td>0</td>\n",
       "      <td>40</td>\n",
       "      <td>Cuba</td>\n",
       "      <td>&lt;=50K</td>\n",
       "    </tr>\n",
       "  </tbody>\n",
       "</table>\n",
       "</div>"
      ],
      "text/plain": [
       "   age          workclass  fnlwgt   education  education_num  \\\n",
       "0   39          State-gov   77516   Bachelors             13   \n",
       "1   50   Self-emp-not-inc   83311   Bachelors             13   \n",
       "2   38            Private  215646     HS-grad              9   \n",
       "3   53            Private  234721        11th              7   \n",
       "4   28            Private  338409   Bachelors             13   \n",
       "\n",
       "        marital_status          occupation    relationship    race      sex  \\\n",
       "0        Never-married        Adm-clerical   Not-in-family   White     Male   \n",
       "1   Married-civ-spouse     Exec-managerial         Husband   White     Male   \n",
       "2             Divorced   Handlers-cleaners   Not-in-family   White     Male   \n",
       "3   Married-civ-spouse   Handlers-cleaners         Husband   Black     Male   \n",
       "4   Married-civ-spouse      Prof-specialty            Wife   Black   Female   \n",
       "\n",
       "   capital_gain  capital_loss  hours_per_week  native_country wage_class  \n",
       "0          2174             0              40   United-States      <=50K  \n",
       "1             0             0              13   United-States      <=50K  \n",
       "2             0             0              40   United-States      <=50K  \n",
       "3             0             0              40   United-States      <=50K  \n",
       "4             0             0              40            Cuba      <=50K  "
      ]
     },
     "execution_count": 63,
     "metadata": {},
     "output_type": "execute_result"
    }
   ],
   "source": [
    "train_set.head()"
   ]
  },
  {
   "cell_type": "code",
   "execution_count": 64,
   "metadata": {},
   "outputs": [
    {
     "data": {
      "text/html": [
       "<div>\n",
       "<style scoped>\n",
       "    .dataframe tbody tr th:only-of-type {\n",
       "        vertical-align: middle;\n",
       "    }\n",
       "\n",
       "    .dataframe tbody tr th {\n",
       "        vertical-align: top;\n",
       "    }\n",
       "\n",
       "    .dataframe thead th {\n",
       "        text-align: right;\n",
       "    }\n",
       "</style>\n",
       "<table border=\"1\" class=\"dataframe\">\n",
       "  <thead>\n",
       "    <tr style=\"text-align: right;\">\n",
       "      <th></th>\n",
       "      <th>age</th>\n",
       "      <th>workclass</th>\n",
       "      <th>fnlwgt</th>\n",
       "      <th>education</th>\n",
       "      <th>education_num</th>\n",
       "      <th>marital_status</th>\n",
       "      <th>occupation</th>\n",
       "      <th>relationship</th>\n",
       "      <th>race</th>\n",
       "      <th>sex</th>\n",
       "      <th>capital_gain</th>\n",
       "      <th>capital_loss</th>\n",
       "      <th>hours_per_week</th>\n",
       "      <th>native_country</th>\n",
       "      <th>wage_class</th>\n",
       "    </tr>\n",
       "  </thead>\n",
       "  <tbody>\n",
       "    <tr>\n",
       "      <th>0</th>\n",
       "      <td>25</td>\n",
       "      <td>Private</td>\n",
       "      <td>226802</td>\n",
       "      <td>11th</td>\n",
       "      <td>7</td>\n",
       "      <td>Never-married</td>\n",
       "      <td>Machine-op-inspct</td>\n",
       "      <td>Own-child</td>\n",
       "      <td>Black</td>\n",
       "      <td>Male</td>\n",
       "      <td>0</td>\n",
       "      <td>0</td>\n",
       "      <td>40</td>\n",
       "      <td>United-States</td>\n",
       "      <td>&lt;=50K.</td>\n",
       "    </tr>\n",
       "    <tr>\n",
       "      <th>1</th>\n",
       "      <td>38</td>\n",
       "      <td>Private</td>\n",
       "      <td>89814</td>\n",
       "      <td>HS-grad</td>\n",
       "      <td>9</td>\n",
       "      <td>Married-civ-spouse</td>\n",
       "      <td>Farming-fishing</td>\n",
       "      <td>Husband</td>\n",
       "      <td>White</td>\n",
       "      <td>Male</td>\n",
       "      <td>0</td>\n",
       "      <td>0</td>\n",
       "      <td>50</td>\n",
       "      <td>United-States</td>\n",
       "      <td>&lt;=50K.</td>\n",
       "    </tr>\n",
       "    <tr>\n",
       "      <th>2</th>\n",
       "      <td>28</td>\n",
       "      <td>Local-gov</td>\n",
       "      <td>336951</td>\n",
       "      <td>Assoc-acdm</td>\n",
       "      <td>12</td>\n",
       "      <td>Married-civ-spouse</td>\n",
       "      <td>Protective-serv</td>\n",
       "      <td>Husband</td>\n",
       "      <td>White</td>\n",
       "      <td>Male</td>\n",
       "      <td>0</td>\n",
       "      <td>0</td>\n",
       "      <td>40</td>\n",
       "      <td>United-States</td>\n",
       "      <td>&gt;50K.</td>\n",
       "    </tr>\n",
       "    <tr>\n",
       "      <th>3</th>\n",
       "      <td>44</td>\n",
       "      <td>Private</td>\n",
       "      <td>160323</td>\n",
       "      <td>Some-college</td>\n",
       "      <td>10</td>\n",
       "      <td>Married-civ-spouse</td>\n",
       "      <td>Machine-op-inspct</td>\n",
       "      <td>Husband</td>\n",
       "      <td>Black</td>\n",
       "      <td>Male</td>\n",
       "      <td>7688</td>\n",
       "      <td>0</td>\n",
       "      <td>40</td>\n",
       "      <td>United-States</td>\n",
       "      <td>&gt;50K.</td>\n",
       "    </tr>\n",
       "    <tr>\n",
       "      <th>4</th>\n",
       "      <td>18</td>\n",
       "      <td>?</td>\n",
       "      <td>103497</td>\n",
       "      <td>Some-college</td>\n",
       "      <td>10</td>\n",
       "      <td>Never-married</td>\n",
       "      <td>?</td>\n",
       "      <td>Own-child</td>\n",
       "      <td>White</td>\n",
       "      <td>Female</td>\n",
       "      <td>0</td>\n",
       "      <td>0</td>\n",
       "      <td>30</td>\n",
       "      <td>United-States</td>\n",
       "      <td>&lt;=50K.</td>\n",
       "    </tr>\n",
       "  </tbody>\n",
       "</table>\n",
       "</div>"
      ],
      "text/plain": [
       "   age   workclass  fnlwgt      education  education_num       marital_status  \\\n",
       "0   25     Private  226802           11th              7        Never-married   \n",
       "1   38     Private   89814        HS-grad              9   Married-civ-spouse   \n",
       "2   28   Local-gov  336951     Assoc-acdm             12   Married-civ-spouse   \n",
       "3   44     Private  160323   Some-college             10   Married-civ-spouse   \n",
       "4   18           ?  103497   Some-college             10        Never-married   \n",
       "\n",
       "           occupation relationship    race      sex  capital_gain  \\\n",
       "0   Machine-op-inspct    Own-child   Black     Male             0   \n",
       "1     Farming-fishing      Husband   White     Male             0   \n",
       "2     Protective-serv      Husband   White     Male             0   \n",
       "3   Machine-op-inspct      Husband   Black     Male          7688   \n",
       "4                   ?    Own-child   White   Female             0   \n",
       "\n",
       "   capital_loss  hours_per_week  native_country wage_class  \n",
       "0             0              40   United-States     <=50K.  \n",
       "1             0              50   United-States     <=50K.  \n",
       "2             0              40   United-States      >50K.  \n",
       "3             0              40   United-States      >50K.  \n",
       "4             0              30   United-States     <=50K.  "
      ]
     },
     "execution_count": 64,
     "metadata": {},
     "output_type": "execute_result"
    }
   ],
   "source": [
    "test_set.head()"
   ]
  },
  {
   "cell_type": "markdown",
   "metadata": {},
   "source": [
    "### Check if null data exists in train and test data "
   ]
  },
  {
   "cell_type": "code",
   "execution_count": 65,
   "metadata": {},
   "outputs": [
    {
     "data": {
      "text/plain": [
       "age               0\n",
       "workclass         0\n",
       "fnlwgt            0\n",
       "education         0\n",
       "education_num     0\n",
       "marital_status    0\n",
       "occupation        0\n",
       "relationship      0\n",
       "race              0\n",
       "sex               0\n",
       "capital_gain      0\n",
       "capital_loss      0\n",
       "hours_per_week    0\n",
       "native_country    0\n",
       "wage_class        0\n",
       "dtype: int64"
      ]
     },
     "execution_count": 65,
     "metadata": {},
     "output_type": "execute_result"
    }
   ],
   "source": [
    "train_set.isnull().sum()"
   ]
  },
  {
   "cell_type": "code",
   "execution_count": 66,
   "metadata": {},
   "outputs": [
    {
     "data": {
      "text/plain": [
       "age               0\n",
       "workclass         0\n",
       "fnlwgt            0\n",
       "education         0\n",
       "education_num     0\n",
       "marital_status    0\n",
       "occupation        0\n",
       "relationship      0\n",
       "race              0\n",
       "sex               0\n",
       "capital_gain      0\n",
       "capital_loss      0\n",
       "hours_per_week    0\n",
       "native_country    0\n",
       "wage_class        0\n",
       "dtype: int64"
      ]
     },
     "execution_count": 66,
     "metadata": {},
     "output_type": "execute_result"
    }
   ],
   "source": [
    "test_set.isnull().sum()"
   ]
  },
  {
   "cell_type": "markdown",
   "metadata": {},
   "source": [
    "### Check if data contains any categorical columns"
   ]
  },
  {
   "cell_type": "code",
   "execution_count": 67,
   "metadata": {},
   "outputs": [
    {
     "name": "stdout",
     "output_type": "stream",
     "text": [
      "<class 'pandas.core.frame.DataFrame'>\n",
      "RangeIndex: 32561 entries, 0 to 32560\n",
      "Data columns (total 15 columns):\n",
      "age               32561 non-null int64\n",
      "workclass         32561 non-null object\n",
      "fnlwgt            32561 non-null int64\n",
      "education         32561 non-null object\n",
      "education_num     32561 non-null int64\n",
      "marital_status    32561 non-null object\n",
      "occupation        32561 non-null object\n",
      "relationship      32561 non-null object\n",
      "race              32561 non-null object\n",
      "sex               32561 non-null object\n",
      "capital_gain      32561 non-null int64\n",
      "capital_loss      32561 non-null int64\n",
      "hours_per_week    32561 non-null int64\n",
      "native_country    32561 non-null object\n",
      "wage_class        32561 non-null object\n",
      "dtypes: int64(6), object(9)\n",
      "memory usage: 3.7+ MB\n"
     ]
    }
   ],
   "source": [
    "train_set.info()"
   ]
  },
  {
   "cell_type": "code",
   "execution_count": 68,
   "metadata": {},
   "outputs": [
    {
     "name": "stdout",
     "output_type": "stream",
     "text": [
      "<class 'pandas.core.frame.DataFrame'>\n",
      "RangeIndex: 16281 entries, 0 to 16280\n",
      "Data columns (total 15 columns):\n",
      "age               16281 non-null int64\n",
      "workclass         16281 non-null object\n",
      "fnlwgt            16281 non-null int64\n",
      "education         16281 non-null object\n",
      "education_num     16281 non-null int64\n",
      "marital_status    16281 non-null object\n",
      "occupation        16281 non-null object\n",
      "relationship      16281 non-null object\n",
      "race              16281 non-null object\n",
      "sex               16281 non-null object\n",
      "capital_gain      16281 non-null int64\n",
      "capital_loss      16281 non-null int64\n",
      "hours_per_week    16281 non-null int64\n",
      "native_country    16281 non-null object\n",
      "wage_class        16281 non-null object\n",
      "dtypes: int64(6), object(9)\n",
      "memory usage: 1.9+ MB\n"
     ]
    }
   ],
   "source": [
    "test_set.info()"
   ]
  },
  {
   "cell_type": "markdown",
   "metadata": {},
   "source": [
    "Get datatypes of train and test data"
   ]
  },
  {
   "cell_type": "code",
   "execution_count": 69,
   "metadata": {},
   "outputs": [],
   "source": [
    "train_data_types=pd.DataFrame(train_set.dtypes,columns=['datatype'])\n",
    "test_data_types=pd.DataFrame(test_set.dtypes,columns=['datatype'])"
   ]
  },
  {
   "cell_type": "markdown",
   "metadata": {},
   "source": [
    "Get categorical columns from train and test data"
   ]
  },
  {
   "cell_type": "code",
   "execution_count": 70,
   "metadata": {},
   "outputs": [],
   "source": [
    "train_data_obj=train_data_types[train_data_types['datatype']=='object'].reset_index()\n",
    "test_data_obj=test_data_types[test_data_types['datatype']=='object'].reset_index()"
   ]
  },
  {
   "cell_type": "markdown",
   "metadata": {},
   "source": [
    "Check unique values in the categorical columns"
   ]
  },
  {
   "cell_type": "code",
   "execution_count": 71,
   "metadata": {},
   "outputs": [
    {
     "name": "stdout",
     "output_type": "stream",
     "text": [
      "--------------------------------------------------\n",
      "unique values for :  workclass\n",
      " Private             22696\n",
      " Self-emp-not-inc     2541\n",
      " Local-gov            2093\n",
      " ?                    1836\n",
      " State-gov            1298\n",
      " Self-emp-inc         1116\n",
      " Federal-gov           960\n",
      " Without-pay            14\n",
      " Never-worked            7\n",
      "Name: workclass, dtype: int64\n",
      "--------------------------------------------------\n",
      "unique values for :  education\n",
      " HS-grad         10501\n",
      " Some-college     7291\n",
      " Bachelors        5355\n",
      " Masters          1723\n",
      " Assoc-voc        1382\n",
      " 11th             1175\n",
      " Assoc-acdm       1067\n",
      " 10th              933\n",
      " 7th-8th           646\n",
      " Prof-school       576\n",
      " 9th               514\n",
      " 12th              433\n",
      " Doctorate         413\n",
      " 5th-6th           333\n",
      " 1st-4th           168\n",
      " Preschool          51\n",
      "Name: education, dtype: int64\n",
      "--------------------------------------------------\n",
      "unique values for :  marital_status\n",
      " Married-civ-spouse       14976\n",
      " Never-married            10683\n",
      " Divorced                  4443\n",
      " Separated                 1025\n",
      " Widowed                    993\n",
      " Married-spouse-absent      418\n",
      " Married-AF-spouse           23\n",
      "Name: marital_status, dtype: int64\n",
      "--------------------------------------------------\n",
      "unique values for :  occupation\n",
      " Prof-specialty       4140\n",
      " Craft-repair         4099\n",
      " Exec-managerial      4066\n",
      " Adm-clerical         3770\n",
      " Sales                3650\n",
      " Other-service        3295\n",
      " Machine-op-inspct    2002\n",
      " ?                    1843\n",
      " Transport-moving     1597\n",
      " Handlers-cleaners    1370\n",
      " Farming-fishing       994\n",
      " Tech-support          928\n",
      " Protective-serv       649\n",
      " Priv-house-serv       149\n",
      " Armed-Forces            9\n",
      "Name: occupation, dtype: int64\n",
      "--------------------------------------------------\n",
      "unique values for :  relationship\n",
      " Husband           13193\n",
      " Not-in-family      8305\n",
      " Own-child          5068\n",
      " Unmarried          3446\n",
      " Wife               1568\n",
      " Other-relative      981\n",
      "Name: relationship, dtype: int64\n",
      "--------------------------------------------------\n",
      "unique values for :  race\n",
      " White                 27816\n",
      " Black                  3124\n",
      " Asian-Pac-Islander     1039\n",
      " Amer-Indian-Eskimo      311\n",
      " Other                   271\n",
      "Name: race, dtype: int64\n",
      "--------------------------------------------------\n",
      "unique values for :  sex\n",
      " Male      21790\n",
      " Female    10771\n",
      "Name: sex, dtype: int64\n",
      "--------------------------------------------------\n",
      "unique values for :  native_country\n",
      " United-States                 29170\n",
      " Mexico                          643\n",
      " ?                               583\n",
      " Philippines                     198\n",
      " Germany                         137\n",
      " Canada                          121\n",
      " Puerto-Rico                     114\n",
      " El-Salvador                     106\n",
      " India                           100\n",
      " Cuba                             95\n",
      " England                          90\n",
      " Jamaica                          81\n",
      " South                            80\n",
      " China                            75\n",
      " Italy                            73\n",
      " Dominican-Republic               70\n",
      " Vietnam                          67\n",
      " Guatemala                        64\n",
      " Japan                            62\n",
      " Poland                           60\n",
      " Columbia                         59\n",
      " Taiwan                           51\n",
      " Haiti                            44\n",
      " Iran                             43\n",
      " Portugal                         37\n",
      " Nicaragua                        34\n",
      " Peru                             31\n",
      " France                           29\n",
      " Greece                           29\n",
      " Ecuador                          28\n",
      " Ireland                          24\n",
      " Hong                             20\n",
      " Trinadad&Tobago                  19\n",
      " Cambodia                         19\n",
      " Thailand                         18\n",
      " Laos                             18\n",
      " Yugoslavia                       16\n",
      " Outlying-US(Guam-USVI-etc)       14\n",
      " Honduras                         13\n",
      " Hungary                          13\n",
      " Scotland                         12\n",
      " Holand-Netherlands                1\n",
      "Name: native_country, dtype: int64\n",
      "--------------------------------------------------\n",
      "unique values for :  wage_class\n",
      " <=50K    24720\n",
      " >50K      7841\n",
      "Name: wage_class, dtype: int64\n"
     ]
    }
   ],
   "source": [
    "for i in train_data_obj['index']:\n",
    "    print('-'*50)\n",
    "    print(\"unique values for : \",i)\n",
    "    print(train_set[i].value_counts())"
   ]
  },
  {
   "cell_type": "code",
   "execution_count": 72,
   "metadata": {},
   "outputs": [
    {
     "name": "stdout",
     "output_type": "stream",
     "text": [
      "--------------------------------------------------\n",
      "unique values for :  workclass\n",
      " Private             11210\n",
      " Self-emp-not-inc     1321\n",
      " Local-gov            1043\n",
      " ?                     963\n",
      " State-gov             683\n",
      " Self-emp-inc          579\n",
      " Federal-gov           472\n",
      " Without-pay             7\n",
      " Never-worked            3\n",
      "Name: workclass, dtype: int64\n",
      "--------------------------------------------------\n",
      "unique values for :  education\n",
      " HS-grad         5283\n",
      " Some-college    3587\n",
      " Bachelors       2670\n",
      " Masters          934\n",
      " Assoc-voc        679\n",
      " 11th             637\n",
      " Assoc-acdm       534\n",
      " 10th             456\n",
      " 7th-8th          309\n",
      " Prof-school      258\n",
      " 9th              242\n",
      " 12th             224\n",
      " Doctorate        181\n",
      " 5th-6th          176\n",
      " 1st-4th           79\n",
      " Preschool         32\n",
      "Name: education, dtype: int64\n",
      "--------------------------------------------------\n",
      "unique values for :  marital_status\n",
      " Married-civ-spouse       7403\n",
      " Never-married            5434\n",
      " Divorced                 2190\n",
      " Widowed                   525\n",
      " Separated                 505\n",
      " Married-spouse-absent     210\n",
      " Married-AF-spouse          14\n",
      "Name: marital_status, dtype: int64\n",
      "--------------------------------------------------\n",
      "unique values for :  occupation\n",
      " Prof-specialty       2032\n",
      " Exec-managerial      2020\n",
      " Craft-repair         2013\n",
      " Sales                1854\n",
      " Adm-clerical         1841\n",
      " Other-service        1628\n",
      " Machine-op-inspct    1020\n",
      " ?                     966\n",
      " Transport-moving      758\n",
      " Handlers-cleaners     702\n",
      " Tech-support          518\n",
      " Farming-fishing       496\n",
      " Protective-serv       334\n",
      " Priv-house-serv        93\n",
      " Armed-Forces            6\n",
      "Name: occupation, dtype: int64\n",
      "--------------------------------------------------\n",
      "unique values for :  relationship\n",
      " Husband           6523\n",
      " Not-in-family     4278\n",
      " Own-child         2513\n",
      " Unmarried         1679\n",
      " Wife               763\n",
      " Other-relative     525\n",
      "Name: relationship, dtype: int64\n",
      "--------------------------------------------------\n",
      "unique values for :  race\n",
      " White                 13946\n",
      " Black                  1561\n",
      " Asian-Pac-Islander      480\n",
      " Amer-Indian-Eskimo      159\n",
      " Other                   135\n",
      "Name: race, dtype: int64\n",
      "--------------------------------------------------\n",
      "unique values for :  sex\n",
      " Male      10860\n",
      " Female     5421\n",
      "Name: sex, dtype: int64\n",
      "--------------------------------------------------\n",
      "unique values for :  native_country\n",
      " United-States                 14662\n",
      " Mexico                          308\n",
      " ?                               274\n",
      " Philippines                      97\n",
      " Puerto-Rico                      70\n",
      " Germany                          69\n",
      " Canada                           61\n",
      " India                            51\n",
      " El-Salvador                      49\n",
      " China                            47\n",
      " Cuba                             43\n",
      " England                          37\n",
      " South                            35\n",
      " Dominican-Republic               33\n",
      " Italy                            32\n",
      " Haiti                            31\n",
      " Portugal                         30\n",
      " Japan                            30\n",
      " Poland                           27\n",
      " Columbia                         26\n",
      " Jamaica                          25\n",
      " Guatemala                        24\n",
      " Greece                           20\n",
      " Vietnam                          19\n",
      " Ecuador                          17\n",
      " Iran                             16\n",
      " Peru                             15\n",
      " Nicaragua                        15\n",
      " Taiwan                           14\n",
      " Ireland                          13\n",
      " Thailand                         12\n",
      " Hong                             10\n",
      " Scotland                          9\n",
      " Cambodia                          9\n",
      " Outlying-US(Guam-USVI-etc)        9\n",
      " France                            9\n",
      " Trinadad&Tobago                   8\n",
      " Honduras                          7\n",
      " Yugoslavia                        7\n",
      " Hungary                           6\n",
      " Laos                              5\n",
      "Name: native_country, dtype: int64\n",
      "--------------------------------------------------\n",
      "unique values for :  wage_class\n",
      " <=50K.    12435\n",
      " >50K.      3846\n",
      "Name: wage_class, dtype: int64\n"
     ]
    }
   ],
   "source": [
    "for i in test_data_obj['index']:\n",
    "    print('-'*50)\n",
    "    print(\"unique values for : \",i)\n",
    "    print(test_set[i].value_counts())"
   ]
  },
  {
   "cell_type": "markdown",
   "metadata": {},
   "source": [
    "### Convert categorical values into numeric values"
   ]
  },
  {
   "cell_type": "code",
   "execution_count": 73,
   "metadata": {},
   "outputs": [],
   "source": [
    "from sklearn.preprocessing import LabelEncoder\n",
    "\n",
    "lb_encode=LabelEncoder()\n",
    "\n",
    "for i in train_data_obj['index']:\n",
    "    train_set[i]=lb_encode.fit_transform(train_set[i])\n",
    "    \n",
    "for i in test_data_obj['index']:\n",
    "    test_set[i]=lb_encode.fit_transform(test_set[i])"
   ]
  },
  {
   "cell_type": "code",
   "execution_count": 74,
   "metadata": {},
   "outputs": [
    {
     "name": "stdout",
     "output_type": "stream",
     "text": [
      "<class 'pandas.core.frame.DataFrame'>\n",
      "RangeIndex: 32561 entries, 0 to 32560\n",
      "Data columns (total 15 columns):\n",
      "age               32561 non-null int64\n",
      "workclass         32561 non-null int64\n",
      "fnlwgt            32561 non-null int64\n",
      "education         32561 non-null int64\n",
      "education_num     32561 non-null int64\n",
      "marital_status    32561 non-null int64\n",
      "occupation        32561 non-null int64\n",
      "relationship      32561 non-null int64\n",
      "race              32561 non-null int64\n",
      "sex               32561 non-null int64\n",
      "capital_gain      32561 non-null int64\n",
      "capital_loss      32561 non-null int64\n",
      "hours_per_week    32561 non-null int64\n",
      "native_country    32561 non-null int64\n",
      "wage_class        32561 non-null int64\n",
      "dtypes: int64(15)\n",
      "memory usage: 3.7 MB\n"
     ]
    }
   ],
   "source": [
    "train_set.info()"
   ]
  },
  {
   "cell_type": "code",
   "execution_count": 75,
   "metadata": {},
   "outputs": [
    {
     "name": "stdout",
     "output_type": "stream",
     "text": [
      "<class 'pandas.core.frame.DataFrame'>\n",
      "RangeIndex: 16281 entries, 0 to 16280\n",
      "Data columns (total 15 columns):\n",
      "age               16281 non-null int64\n",
      "workclass         16281 non-null int64\n",
      "fnlwgt            16281 non-null int64\n",
      "education         16281 non-null int64\n",
      "education_num     16281 non-null int64\n",
      "marital_status    16281 non-null int64\n",
      "occupation        16281 non-null int64\n",
      "relationship      16281 non-null int64\n",
      "race              16281 non-null int64\n",
      "sex               16281 non-null int64\n",
      "capital_gain      16281 non-null int64\n",
      "capital_loss      16281 non-null int64\n",
      "hours_per_week    16281 non-null int64\n",
      "native_country    16281 non-null int64\n",
      "wage_class        16281 non-null int64\n",
      "dtypes: int64(15)\n",
      "memory usage: 1.9 MB\n"
     ]
    }
   ],
   "source": [
    "test_set.info()"
   ]
  },
  {
   "cell_type": "markdown",
   "metadata": {},
   "source": [
    "## Data Visualization"
   ]
  },
  {
   "cell_type": "code",
   "execution_count": 76,
   "metadata": {},
   "outputs": [
    {
     "data": {
      "text/plain": [
       "<matplotlib.axes._subplots.AxesSubplot at 0x1a1d122160>"
      ]
     },
     "execution_count": 76,
     "metadata": {},
     "output_type": "execute_result"
    },
    {
     "data": {
      "image/png": "[encoded data removed]",
      "text/plain": [
       "<matplotlib.figure.Figure at 0x1a1d2ce240>"
      ]
     },
     "metadata": {},
     "output_type": "display_data"
    }
   ],
   "source": [
    "plt.figure(figsize=(5,5))\n",
    "sns.set_style('whitegrid')\n",
    "sns.countplot('sex',data=train_set,hue='wage_class')"
   ]
  },
  {
   "cell_type": "code",
   "execution_count": 77,
   "metadata": {},
   "outputs": [
    {
     "data": {
      "text/plain": [
       "<matplotlib.axes._subplots.AxesSubplot at 0x1a1d2ce160>"
      ]
     },
     "execution_count": 77,
     "metadata": {},
     "output_type": "execute_result"
    },
    {
     "data": {
      "image/png": "[encoded data removed]",
      "text/plain": [
       "<matplotlib.figure.Figure at 0x1a1d2d2710>"
      ]
     },
     "metadata": {},
     "output_type": "display_data"
    }
   ],
   "source": [
    "sns.countplot('workclass',data=train_set,hue='wage_class')"
   ]
  },
  {
   "cell_type": "code",
   "execution_count": 78,
   "metadata": {},
   "outputs": [
    {
     "data": {
      "text/plain": [
       "<matplotlib.axes._subplots.AxesSubplot at 0x1a1b729518>"
      ]
     },
     "execution_count": 78,
     "metadata": {},
     "output_type": "execute_result"
    },
    {
     "data": {
      "image/png": "[encoded data removed]",
      "text/plain": [
       "<matplotlib.figure.Figure at 0x1a1d1cce10>"
      ]
     },
     "metadata": {},
     "output_type": "display_data"
    }
   ],
   "source": [
    "sns.countplot('education',data=train_set,hue='wage_class')"
   ]
  },
  {
   "cell_type": "code",
   "execution_count": 79,
   "metadata": {},
   "outputs": [
    {
     "data": {
      "text/plain": [
       "<matplotlib.axes._subplots.AxesSubplot at 0x1a1d19a828>"
      ]
     },
     "execution_count": 79,
     "metadata": {},
     "output_type": "execute_result"
    },
    {
     "data": {
      "image/png": "[encoded data removed]",
      "text/plain": [
       "<matplotlib.figure.Figure at 0x1a1d1aedd8>"
      ]
     },
     "metadata": {},
     "output_type": "display_data"
    }
   ],
   "source": [
    "sns.countplot('wage_class',data=train_set)"
   ]
  },
  {
   "cell_type": "code",
   "execution_count": 80,
   "metadata": {},
   "outputs": [
    {
     "data": {
      "text/plain": [
       "array([[<matplotlib.axes._subplots.AxesSubplot object at 0x1a1b804fd0>,\n",
       "        <matplotlib.axes._subplots.AxesSubplot object at 0x1a1d41df98>,\n",
       "        <matplotlib.axes._subplots.AxesSubplot object at 0x1a1ff76668>,\n",
       "        <matplotlib.axes._subplots.AxesSubplot object at 0x1a1ff9bd68>],\n",
       "       [<matplotlib.axes._subplots.AxesSubplot object at 0x1a200443c8>,\n",
       "        <matplotlib.axes._subplots.AxesSubplot object at 0x1a20044400>,\n",
       "        <matplotlib.axes._subplots.AxesSubplot object at 0x1a20000b38>,\n",
       "        <matplotlib.axes._subplots.AxesSubplot object at 0x1a21e78198>],\n",
       "       [<matplotlib.axes._subplots.AxesSubplot object at 0x1a21e9c828>,\n",
       "        <matplotlib.axes._subplots.AxesSubplot object at 0x1a20911e80>,\n",
       "        <matplotlib.axes._subplots.AxesSubplot object at 0x1a2094dd68>,\n",
       "        <matplotlib.axes._subplots.AxesSubplot object at 0x1a21d88898>],\n",
       "       [<matplotlib.axes._subplots.AxesSubplot object at 0x1a2252df28>,\n",
       "        <matplotlib.axes._subplots.AxesSubplot object at 0x1a2256a4a8>,\n",
       "        <matplotlib.axes._subplots.AxesSubplot object at 0x1a225992e8>,\n",
       "        <matplotlib.axes._subplots.AxesSubplot object at 0x1a225c9a58>]],\n",
       "      dtype=object)"
      ]
     },
     "execution_count": 80,
     "metadata": {},
     "output_type": "execute_result"
    },
    {
     "data": {
      "image/png": "[encoded data removed]",
      "text/plain": [
       "<matplotlib.figure.Figure at 0x1a1d340438>"
      ]
     },
     "metadata": {},
     "output_type": "display_data"
    }
   ],
   "source": [
    "pd.DataFrame.hist(train_set,figsize = [15,15])"
   ]
  },
  {
   "cell_type": "markdown",
   "metadata": {},
   "source": [
    "### Define training and test sets"
   ]
  },
  {
   "cell_type": "code",
   "execution_count": 81,
   "metadata": {},
   "outputs": [],
   "source": [
    "x_train = train_set.drop(['wage_class'],axis=1)\n",
    "y_train = train_set['wage_class']\n",
    "\n",
    "x_test = test_set.drop(['wage_class'],axis=1)\n",
    "y_test = test_set['wage_class']"
   ]
  },
  {
   "cell_type": "markdown",
   "metadata": {},
   "source": [
    "#### Check with different classification model"
   ]
  },
  {
   "cell_type": "markdown",
   "metadata": {},
   "source": [
    "##  Logistic regression"
   ]
  },
  {
   "cell_type": "code",
   "execution_count": 82,
   "metadata": {},
   "outputs": [
    {
     "name": "stdout",
     "output_type": "stream",
     "text": [
      "0.795589951477182\n"
     ]
    }
   ],
   "source": [
    "model_accuracy = {}\n",
    "#Build the model\n",
    "LR = LogisticRegression()\n",
    "#traing the model \n",
    "LR.fit(x_train,y_train)\n",
    "#Model parameters study\n",
    "y_pred = LR.predict(x_test)\n",
    "y_pred_proba = LR.predict_proba(x_test)\n",
    "# generate evaluation metrics\n",
    "print(metrics.accuracy_score(y_test, y_pred))\n",
    "model_accuracy['Logistic Regression'] = metrics.accuracy_score(y_test, y_pred)"
   ]
  },
  {
   "cell_type": "markdown",
   "metadata": {},
   "source": [
    "### Evaluation of Logistic regression"
   ]
  },
  {
   "cell_type": "markdown",
   "metadata": {},
   "source": [
    "##### Confusion matrix"
   ]
  },
  {
   "cell_type": "code",
   "execution_count": 83,
   "metadata": {},
   "outputs": [
    {
     "data": {
      "text/plain": [
       "array([[11843,   592],\n",
       "       [ 2736,  1110]])"
      ]
     },
     "execution_count": 83,
     "metadata": {},
     "output_type": "execute_result"
    }
   ],
   "source": [
    "metrics.confusion_matrix(y_test,y_pred)"
   ]
  },
  {
   "cell_type": "markdown",
   "metadata": {},
   "source": [
    "##### ROC and AUC"
   ]
  },
  {
   "cell_type": "code",
   "execution_count": 84,
   "metadata": {},
   "outputs": [
    {
     "name": "stdout",
     "output_type": "stream",
     "text": [
      "ROC :  (array([0.        , 0.        , 0.        , ..., 0.99879373, 0.99879373,\n",
      "       1.        ]), array([2.60010400e-04, 2.60010400e-03, 3.64014561e-03, ...,\n",
      "       9.99739990e-01, 1.00000000e+00, 1.00000000e+00]), array([1.        , 1.        , 1.        , ..., 0.04557042, 0.04357185,\n",
      "       0.00776231]))\n",
      "AUC :  0.7002772085149589\n"
     ]
    }
   ],
   "source": [
    "print(\"ROC : \",(metrics.roc_curve(y_test,y_pred_proba[:,1])))\n",
    "print(\"AUC : \",(metrics.roc_auc_score(y_test,y_pred_proba[:,1])))"
   ]
  },
  {
   "cell_type": "code",
   "execution_count": 85,
   "metadata": {},
   "outputs": [],
   "source": [
    "model_accuracy['AUC_Logistic_Regression'] = metrics.roc_auc_score(y_test,y_pred_proba[:,1])"
   ]
  },
  {
   "cell_type": "markdown",
   "metadata": {},
   "source": [
    "##### Classification report"
   ]
  },
  {
   "cell_type": "code",
   "execution_count": 86,
   "metadata": {},
   "outputs": [
    {
     "name": "stdout",
     "output_type": "stream",
     "text": [
      "             precision    recall  f1-score   support\n",
      "\n",
      "          0       0.81      0.95      0.88     12435\n",
      "          1       0.65      0.29      0.40      3846\n",
      "\n",
      "avg / total       0.77      0.80      0.76     16281\n",
      "\n"
     ]
    }
   ],
   "source": [
    "print(classification_report(y_test,y_pred))"
   ]
  },
  {
   "cell_type": "markdown",
   "metadata": {},
   "source": [
    "##### 10 fold cross validation"
   ]
  },
  {
   "cell_type": "code",
   "execution_count": 87,
   "metadata": {},
   "outputs": [],
   "source": [
    "Features = x_train.append(x_test)\n",
    "Labels = y_train.append(y_test)"
   ]
  },
  {
   "cell_type": "code",
   "execution_count": 88,
   "metadata": {},
   "outputs": [
    {
     "name": "stdout",
     "output_type": "stream",
     "text": [
      "Accuracy per fold: \n",
      "Cross Validation score:  [0.78853634 0.79918117 0.80348004 0.79119754 0.78710338 0.78951679\n",
      " 0.80958231 0.80483309 0.7837395  0.79213598]\n",
      "Average accuracy:  0.7949306144577417\n"
     ]
    }
   ],
   "source": [
    "scores = cross_val_score(estimator= LogisticRegression(),     # Model to test\n",
    "                X= Features,  \n",
    "                y = Labels,                                   # Target variable\n",
    "                scoring = \"accuracy\",                         # Scoring metric    \n",
    "                cv=10)                                        # Cross validation folds\n",
    "\n",
    "print(\"Accuracy per fold: \")\n",
    "print(\"Cross Validation score: \", scores)\n",
    "print(\"Average accuracy: \", scores.mean())\n",
    "model_accuracy['10 CV Score-Logistic Regression'] = scores.mean()"
   ]
  },
  {
   "cell_type": "markdown",
   "metadata": {},
   "source": [
    "## Decision Tree Classifier"
   ]
  },
  {
   "cell_type": "code",
   "execution_count": 89,
   "metadata": {},
   "outputs": [
    {
     "name": "stdout",
     "output_type": "stream",
     "text": [
      "accuracy of Decision Tree Classifier : 0.8100853755911799\n"
     ]
    }
   ],
   "source": [
    "#build the model\n",
    "DT = DecisionTreeClassifier(random_state=0)\n",
    "#train the model\n",
    "DT.fit(x_train,y_train)\n",
    "#Model parameters study\n",
    "y_pred = DT.predict(x_test)\n",
    "y_pred_proba = DT.predict_proba(x_test)\n",
    "# Check accuracy score\n",
    "print(\"accuracy of Decision Tree Classifier :\",metrics.accuracy_score(y_test, y_pred))"
   ]
  },
  {
   "cell_type": "markdown",
   "metadata": {},
   "source": [
    "##### Build decision tree classifier with max_depth 1 to 20"
   ]
  },
  {
   "cell_type": "code",
   "execution_count": 90,
   "metadata": {},
   "outputs": [
    {
     "name": "stdout",
     "output_type": "stream",
     "text": [
      "accuracy of Decision Tree Classifier for max_depth  1  :  0.7637737239727289\n",
      "accuracy of Decision Tree Classifier for max_depth  2  :  0.8267919660954487\n",
      "accuracy of Decision Tree Classifier for max_depth  3  :  0.839199066396413\n",
      "accuracy of Decision Tree Classifier for max_depth  4  :  0.8442356120631411\n",
      "accuracy of Decision Tree Classifier for max_depth  5  :  0.8514219028315214\n",
      "accuracy of Decision Tree Classifier for max_depth  6  :  0.8546772311283091\n",
      "accuracy of Decision Tree Classifier for max_depth  7  :  0.8563970272096308\n",
      "accuracy of Decision Tree Classifier for max_depth  8  :  0.8538787543762668\n",
      "accuracy of Decision Tree Classifier for max_depth  9  :  0.8513604815429028\n",
      "accuracy of Decision Tree Classifier for max_depth  10  :  0.8551071801486395\n",
      "accuracy of Decision Tree Classifier for max_depth  11  :  0.8522203795835637\n",
      "accuracy of Decision Tree Classifier for max_depth  12  :  0.8519132731404705\n",
      "accuracy of Decision Tree Classifier for max_depth  13  :  0.8495792641729624\n",
      "accuracy of Decision Tree Classifier for max_depth  14  :  0.843928505620048\n",
      "accuracy of Decision Tree Classifier for max_depth  15  :  0.8399975431484552\n",
      "accuracy of Decision Tree Classifier for max_depth  16  :  0.8395675941281248\n",
      "accuracy of Decision Tree Classifier for max_depth  17  :  0.8334868865548799\n",
      "accuracy of Decision Tree Classifier for max_depth  18  :  0.8308457711442786\n",
      "accuracy of Decision Tree Classifier for max_depth  19  :  0.8276518641361096\n",
      "accuracy of Decision Tree Classifier for max_depth  20  :  0.8264234383637369\n"
     ]
    }
   ],
   "source": [
    "for depth in range(20):\n",
    "    #build the model\n",
    "    depth = depth + 1\n",
    "    DT = DecisionTreeClassifier(max_depth=depth,random_state=0)\n",
    "    #train the model\n",
    "    DT.fit(x_train,y_train)\n",
    "    #Model parameters study\n",
    "    y_pred = DT.predict(x_test)\n",
    "    y_pred_proba = DT.predict_proba(x_test)\n",
    "    # generate evaluation metrics\n",
    "    print(\"accuracy of Decision Tree Classifier for max_depth \", depth,\" : \",metrics.accuracy_score(y_test, y_pred))\n",
    " "
   ]
  },
  {
   "cell_type": "markdown",
   "metadata": {},
   "source": [
    "As the highest accuracy level at max_depth 10. Now Build the model with max_depth 10"
   ]
  },
  {
   "cell_type": "code",
   "execution_count": 91,
   "metadata": {},
   "outputs": [
    {
     "name": "stdout",
     "output_type": "stream",
     "text": [
      "accuracy of Decision Tree Classifier : 0.8551071801486395\n"
     ]
    }
   ],
   "source": [
    "#build the model\n",
    "DT = DecisionTreeClassifier(max_depth=10, random_state=0)\n",
    "#train the model\n",
    "DT.fit(x_train,y_train)\n",
    "#Model parameters study\n",
    "y_pred = DT.predict(x_test)\n",
    "y_pred_proba = DT.predict_proba(x_test)\n",
    "# Check accuracy score\n",
    "print(\"accuracy of Decision Tree Classifier :\",metrics.accuracy_score(y_test, y_pred))"
   ]
  },
  {
   "cell_type": "markdown",
   "metadata": {},
   "source": [
    "### Evaluation of decision tree classifier model"
   ]
  },
  {
   "cell_type": "markdown",
   "metadata": {},
   "source": [
    "##### Confusion matrix"
   ]
  },
  {
   "cell_type": "code",
   "execution_count": 92,
   "metadata": {},
   "outputs": [
    {
     "name": "stdout",
     "output_type": "stream",
     "text": [
      "Confusion matrix: \n",
      " [[11725   710]\n",
      " [ 1649  2197]]\n"
     ]
    }
   ],
   "source": [
    "print(\"Confusion matrix: \\n\", metrics.confusion_matrix(y_test, y_pred))"
   ]
  },
  {
   "cell_type": "markdown",
   "metadata": {},
   "source": [
    "##### ROC and AUC"
   ]
  },
  {
   "cell_type": "code",
   "execution_count": 93,
   "metadata": {},
   "outputs": [
    {
     "name": "stdout",
     "output_type": "stream",
     "text": [
      "ROC :  (array([0.        , 0.00514676, 0.00522718, 0.00522718, 0.0053076 ,\n",
      "       0.0053076 , 0.00627262, 0.01318858, 0.01391234, 0.01439485,\n",
      "       0.01439485, 0.01447527, 0.03176518, 0.03313229, 0.03409731,\n",
      "       0.03433856, 0.03819863, 0.03916365, 0.04045034, 0.04093285,\n",
      "       0.04189787, 0.04358665, 0.04382791, 0.05653398, 0.0570969 ,\n",
      "       0.05717732, 0.05942903, 0.06425412, 0.06481705, 0.06521914,\n",
      "       0.06554081, 0.06883796, 0.06907921, 0.06915963, 0.08781665,\n",
      "       0.09183756, 0.10985123, 0.11676719, 0.11700844, 0.11966224,\n",
      "       0.12448733, 0.12971452, 0.13003619, 0.13196622, 0.16574186,\n",
      "       0.16911942, 0.16976277, 0.17466828, 0.18769602, 0.18809811,\n",
      "       0.18890229, 0.19131484, 0.19437073, 0.1946924 , 0.19879373,\n",
      "       0.20514676, 0.20627262, 0.20675513, 0.21182147, 0.21310816,\n",
      "       0.22525131, 0.23852031, 0.25814234, 0.26320869, 0.26353036,\n",
      "       0.26586248, 0.27117008, 0.28242863, 0.28258947, 0.28427825,\n",
      "       0.28854041, 0.29223965, 0.29288299, 0.29489345, 0.29682348,\n",
      "       0.29762766, 0.29794934, 0.30824286, 0.30944914, 0.32086852,\n",
      "       0.32127061, 0.34981906, 0.35078408, 0.3526337 , 0.3575392 ,\n",
      "       0.37466828, 0.40570969, 0.40820265, 0.40956976, 0.42267793,\n",
      "       0.42694009, 0.45749899, 0.48516285, 0.49995979, 0.50824286,\n",
      "       0.50888621, 0.51612384, 0.54161641, 0.54282268, 0.59043024,\n",
      "       0.59308404, 0.59654202, 0.63088058, 0.64278247, 0.65186972,\n",
      "       0.69240048, 0.70422195, 0.92939284, 1.        ]), array([0.        , 0.24622985, 0.25819033, 0.25923037, 0.2600104 ,\n",
      "       0.26027041, 0.27015081, 0.34165367, 0.34685387, 0.34789392,\n",
      "       0.34841394, 0.34867395, 0.47815913, 0.48621945, 0.48699948,\n",
      "       0.4875195 , 0.50962038, 0.51482059, 0.52054082, 0.52080083,\n",
      "       0.52210088, 0.52522101, 0.52548102, 0.57020281, 0.57124285,\n",
      "       0.57150286, 0.57696308, 0.58606344, 0.58632345, 0.58684347,\n",
      "       0.58788352, 0.60036401, 0.60088404, 0.60140406, 0.65912637,\n",
      "       0.66562663, 0.7025481 , 0.71216849, 0.7124285 , 0.71788872,\n",
      "       0.72464899, 0.73608944, 0.7373895 , 0.73842954, 0.79355174,\n",
      "       0.79719189, 0.7974519 , 0.80213209, 0.81487259, 0.81513261,\n",
      "       0.81591264, 0.81877275, 0.82111284, 0.82111284, 0.82787311,\n",
      "       0.83853354, 0.83983359, 0.84061362, 0.84321373, 0.84555382,\n",
      "       0.85309412, 0.86219449, 0.88091524, 0.88481539, 0.8850754 ,\n",
      "       0.88611544, 0.89235569, 0.89651586, 0.89703588, 0.89859594,\n",
      "       0.90301612, 0.9050962 , 0.9050962 , 0.90587624, 0.90639626,\n",
      "       0.90665627, 0.90665627, 0.91471659, 0.91705668, 0.92199688,\n",
      "       0.92199688, 0.93187728, 0.93265731, 0.93421737, 0.93603744,\n",
      "       0.94045762, 0.94591784, 0.94643786, 0.9474779 , 0.95137806,\n",
      "       0.9524181 , 0.95527821, 0.95839834, 0.96073843, 0.9625585 ,\n",
      "       0.96307852, 0.96567863, 0.96723869, 0.96723869, 0.9724389 ,\n",
      "       0.97321893, 0.97399896, 0.97451898, 0.97581903, 0.97763911,\n",
      "       0.97893916, 0.97893916, 0.98101924, 1.        ]), array([2.00000000e+00, 1.00000000e+00, 9.48979592e-01, 9.33333333e-01,\n",
      "       9.00000000e-01, 8.33333333e-01, 8.02083333e-01, 7.93478261e-01,\n",
      "       7.83783784e-01, 7.69230769e-01, 7.50000000e-01, 7.14285714e-01,\n",
      "       7.04975473e-01, 6.97368421e-01, 6.96969697e-01, 6.66666667e-01,\n",
      "       6.56250000e-01, 6.52777778e-01, 6.50000000e-01, 6.25000000e-01,\n",
      "       6.06060606e-01, 5.97222222e-01, 5.83333333e-01, 5.62211982e-01,\n",
      "       5.45454545e-01, 5.00000000e-01, 4.86725664e-01, 4.84375000e-01,\n",
      "       4.76190476e-01, 4.73684211e-01, 4.68750000e-01, 4.64285714e-01,\n",
      "       4.61538462e-01, 4.54545455e-01, 4.53886010e-01, 4.52702703e-01,\n",
      "       4.39716312e-01, 4.19475655e-01, 4.00000000e-01, 3.97435897e-01,\n",
      "       3.93939394e-01, 3.48484848e-01, 3.46153846e-01, 3.33333333e-01,\n",
      "       3.24180015e-01, 3.13043478e-01, 2.85714286e-01, 2.61306533e-01,\n",
      "       2.52688172e-01, 2.50000000e-01, 2.41379310e-01, 2.25806452e-01,\n",
      "       2.24719101e-01, 2.22222222e-01, 2.20125786e-01, 2.12669683e-01,\n",
      "       2.11538462e-01, 2.06896552e-01, 2.04225352e-01, 2.00000000e-01,\n",
      "       1.76136364e-01, 1.75531915e-01, 1.71568627e-01, 1.69696970e-01,\n",
      "       1.66666667e-01, 1.61764706e-01, 1.57608696e-01, 1.51057402e-01,\n",
      "       1.42857143e-01, 1.40000000e-01, 1.38461538e-01, 1.35135135e-01,\n",
      "       1.30434783e-01, 1.29870130e-01, 1.25000000e-01, 1.20000000e-01,\n",
      "       1.11111111e-01, 1.08585859e-01, 1.05263158e-01, 1.00000000e-01,\n",
      "       9.09090909e-02, 8.90957447e-02, 8.69565217e-02, 8.51063830e-02,\n",
      "       8.49673203e-02, 7.44186047e-02, 5.92417062e-02, 5.79710145e-02,\n",
      "       4.54545455e-02, 4.43786982e-02, 3.88349515e-02, 3.76028202e-02,\n",
      "       3.58255452e-02, 3.26086957e-02, 3.22580645e-02, 3.12500000e-02,\n",
      "       2.94117647e-02, 2.42326333e-02, 2.27272727e-02, 1.71073095e-02,\n",
      "       1.66666667e-02, 1.04166667e-02, 9.15331808e-03, 8.95522388e-03,\n",
      "       8.81057269e-03, 4.17972832e-03, 3.26797386e-03, 1.45932142e-03,\n",
      "       0.00000000e+00]))\n",
      "AUC :  0.8923870481156199\n"
     ]
    }
   ],
   "source": [
    "print(\"ROC : \",(metrics.roc_curve(y_test,y_pred_proba[:,1])))\n",
    "print(\"AUC : \",(metrics.roc_auc_score(y_test,y_pred_proba[:,1])))\n",
    "model_accuracy['AUC of Decision tree classifier of depth 10'] = metrics.roc_auc_score(y_test,y_pred_proba[:,1])"
   ]
  },
  {
   "cell_type": "markdown",
   "metadata": {},
   "source": [
    "##### 10 fold cross validation"
   ]
  },
  {
   "cell_type": "code",
   "execution_count": 94,
   "metadata": {},
   "outputs": [
    {
     "name": "stdout",
     "output_type": "stream",
     "text": [
      "Accuracy per fold: \n",
      "Cross Validation score:  [0.85322416 0.85813715 0.85342886 0.8616172  0.86243603 0.85974611\n",
      " 0.84848485 0.85459758 0.85111612 0.85091133]\n",
      "Average accuracy:  0.8553699381987601\n"
     ]
    }
   ],
   "source": [
    "scores = cross_val_score(estimator= DecisionTreeClassifier(max_depth=10, random_state=0),     # Model to test\n",
    "                X= Features,  \n",
    "                y = Labels,                                   # Target variable\n",
    "                scoring = \"accuracy\",                         # Scoring metric    \n",
    "                cv=10)                                        # Cross validation folds\n",
    "\n",
    "print(\"Accuracy per fold: \")\n",
    "print(\"Cross Validation score: \", scores)\n",
    "print(\"Average accuracy: \", scores.mean())\n",
    "model_accuracy['10 CV Score-Logistic Regression'] = scores.mean()"
   ]
  },
  {
   "cell_type": "markdown",
   "metadata": {},
   "source": [
    "## K nearest neighbor"
   ]
  },
  {
   "cell_type": "code",
   "execution_count": 95,
   "metadata": {},
   "outputs": [
    {
     "name": "stdout",
     "output_type": "stream",
     "text": [
      "Accuracy is  72.8579325594251 % for K-Value: 1\n",
      "Error  is  27.142067440574905 % for K-Value: 1\n",
      "Accuracy is  78.39199066396412 % for K-Value: 2\n",
      "Error  is  21.608009336035877 % for K-Value: 2\n",
      "Accuracy is  75.94128124808059 % for K-Value: 3\n",
      "Error  is  24.058718751919415 % for K-Value: 3\n",
      "Accuracy is  79.08605122535471 % for K-Value: 4\n",
      "Error  is  20.91394877464529 % for K-Value: 4\n",
      "Accuracy is  77.61194029850746 % for K-Value: 5\n",
      "Error  is  22.388059701492537 % for K-Value: 5\n",
      "Accuracy is  79.26417296234874 % for K-Value: 6\n",
      "Error  is  20.735827037651262 % for K-Value: 6\n",
      "Accuracy is  78.45341195258277 % for K-Value: 7\n",
      "Error  is  21.54658804741723 % for K-Value: 7\n",
      "Accuracy is  79.52214237454702 % for K-Value: 8\n",
      "Error  is  20.477857625452984 % for K-Value: 8\n",
      "Accuracy is  78.96320864811743 % for K-Value: 9\n",
      "Error  is  21.03679135188257 % for K-Value: 9\n",
      "Accuracy is  79.83539094650206 % for K-Value: 10\n",
      "Error  is  20.16460905349794 % for K-Value: 10\n",
      "Accuracy is  79.5098581168233 % for K-Value: 11\n",
      "Error  is  20.490141883176705 % for K-Value: 11\n",
      "Accuracy is  79.97051778146306 % for K-Value: 12\n",
      "Error  is  20.02948221853694 % for K-Value: 12\n",
      "Accuracy is  79.71869049812665 % for K-Value: 13\n",
      "Error  is  20.281309501873352 % for K-Value: 13\n",
      "Accuracy is  80.05650758552915 % for K-Value: 14\n",
      "Error  is  19.943492414470853 % for K-Value: 14\n",
      "Accuracy is  79.85995946194952 % for K-Value: 15\n",
      "Error  is  20.140040538050485 % for K-Value: 15\n",
      "Accuracy is  80.19163442049015 % for K-Value: 16\n",
      "Error  is  19.808365579509854 % for K-Value: 16\n",
      "Accuracy is  80.08721822983847 % for K-Value: 17\n",
      "Error  is  19.91278177016153 % for K-Value: 17\n",
      "Accuracy is  80.17935016276641 % for K-Value: 18\n",
      "Error  is  19.82064983723359 % for K-Value: 18\n",
      "Accuracy is  80.197776549352 % for K-Value: 19\n",
      "Error  is  19.802223450648 % for K-Value: 19\n",
      "Accuracy is  80.30833486886554 % for K-Value: 20\n",
      "Error  is  19.691665131134457 % for K-Value: 20\n",
      "Accuracy is  80.2162029359376 % for K-Value: 21\n",
      "Error  is  19.783797064062398 % for K-Value: 21\n",
      "Accuracy is  80.24077145138506 % for K-Value: 22\n",
      "Error  is  19.759228548614942 % for K-Value: 22\n",
      "Accuracy is  80.24077145138506 % for K-Value: 23\n",
      "Error  is  19.759228548614942 % for K-Value: 23\n",
      "Accuracy is  80.30833486886554 % for K-Value: 24\n",
      "Error  is  19.691665131134457 % for K-Value: 24\n",
      "Accuracy is  80.2837663534181 % for K-Value: 25\n",
      "Error  is  19.716233646581898 % for K-Value: 25\n",
      "Accuracy is  80.197776549352 % for K-Value: 26\n",
      "Error  is  19.802223450648 % for K-Value: 26\n",
      "Accuracy is  80.2837663534181 % for K-Value: 27\n",
      "Error  is  19.716233646581898 % for K-Value: 27\n",
      "Accuracy is  80.22234506479946 % for K-Value: 28\n",
      "Error  is  19.777654935200545 % for K-Value: 28\n",
      "Accuracy is  80.30833486886554 % for K-Value: 29\n",
      "Error  is  19.691665131134457 % for K-Value: 29\n",
      "Accuracy is  80.20391867821387 % for K-Value: 30\n",
      "Error  is  19.796081321786133 % for K-Value: 30\n"
     ]
    }
   ],
   "source": [
    "k = []\n",
    "scores = []\n",
    "errors = []\n",
    "for K in range(30):\n",
    "    K_value = K+1\n",
    "    neigh = KNeighborsClassifier(n_neighbors = K_value, weights='uniform', algorithm='auto')\n",
    "    neigh.fit(x_train,y_train) \n",
    "    y_pred = neigh.predict(x_test)\n",
    "    print(\"Accuracy is \", metrics.accuracy_score(y_test,y_pred)*100,\"% for K-Value:\",K_value)\n",
    "    print(\"Error  is \", 100 - metrics.accuracy_score(y_test,y_pred)*100,\"% for K-Value:\",K_value)\n",
    "    k.append(K_value)\n",
    "    scores.append(metrics.accuracy_score(y_test,y_pred)*100)\n",
    "    errors.append(1 - metrics.accuracy_score(y_test,y_pred) )"
   ]
  },
  {
   "cell_type": "code",
   "execution_count": 96,
   "metadata": {},
   "outputs": [
    {
     "data": {
      "text/plain": [
       "Text(0.5,1,'K Value vs Accuracy')"
      ]
     },
     "execution_count": 96,
     "metadata": {},
     "output_type": "execute_result"
    },
    {
     "data": {
      "image/png": "[encoded data removed]",
      "text/plain": [
       "<matplotlib.figure.Figure at 0x1a22758c18>"
      ]
     },
     "metadata": {},
     "output_type": "display_data"
    }
   ],
   "source": [
    "plt.plot(k,scores)\n",
    "plt.xlabel('K value')\n",
    "plt.ylabel('Accuracy Score')\n",
    "plt.title('K Value vs Accuracy')"
   ]
  },
  {
   "cell_type": "markdown",
   "metadata": {},
   "source": [
    "So, it is showing that after k = 20 accuracy score remains almost same. Optimum value 20"
   ]
  },
  {
   "cell_type": "code",
   "execution_count": 97,
   "metadata": {},
   "outputs": [
    {
     "name": "stdout",
     "output_type": "stream",
     "text": [
      "accuracy of KNN Classifier : 0.8030833486886555\n"
     ]
    }
   ],
   "source": [
    "knn = KNeighborsClassifier(n_neighbors = 20, weights='uniform', algorithm='auto')\n",
    "knn.fit(x_train,y_train)\n",
    "y_pred = knn.predict(x_test)\n",
    "y_pred_proba = knn.predict_proba(x_test)\n",
    "# generate evaluation metrics\n",
    "print(\"accuracy of KNN Classifier :\",metrics.accuracy_score(y_test, y_pred))\n",
    "model_accuracy['Accuracy Score of KNN Classifier neigbors-20'] = metrics.accuracy_score(y_test, y_pred)\n",
    "\n",
    "model_accuracy['AUC of KNN Classifier neighbors-20'] = metrics.roc_auc_score(y_test,y_pred_proba[:,1])"
   ]
  },
  {
   "cell_type": "markdown",
   "metadata": {},
   "source": [
    "### Evaluation of K nearest neighbor model where K = 20"
   ]
  },
  {
   "cell_type": "markdown",
   "metadata": {},
   "source": [
    "##### Confusion matrix"
   ]
  },
  {
   "cell_type": "code",
   "execution_count": 98,
   "metadata": {},
   "outputs": [
    {
     "name": "stdout",
     "output_type": "stream",
     "text": [
      "Confusion metrix: \n",
      " [[12277   158]\n",
      " [ 3048   798]]\n"
     ]
    }
   ],
   "source": [
    "print(\"Confusion metrix: \\n\",metrics.confusion_matrix(y_test, y_pred))"
   ]
  },
  {
   "cell_type": "markdown",
   "metadata": {},
   "source": [
    "##### ROC and AUC"
   ]
  },
  {
   "cell_type": "code",
   "execution_count": 99,
   "metadata": {},
   "outputs": [
    {
     "name": "stdout",
     "output_type": "stream",
     "text": [
      "ROC (array([0.00000000e+00, 3.21672698e-04, 4.02090873e-04, 5.62927222e-04,\n",
      "       6.43345396e-04, 1.20627262e-03, 1.84961801e-03, 3.05589063e-03,\n",
      "       4.58383595e-03, 7.31805388e-03, 1.27060716e-02, 2.13108162e-02,\n",
      "       3.66706876e-02, 6.86771210e-02, 1.22557298e-01, 2.11017290e-01,\n",
      "       3.56011259e-01, 5.30438279e-01, 7.26819461e-01, 8.85404101e-01,\n",
      "       9.74829111e-01, 1.00000000e+00]), array([0.        , 0.07670307, 0.09958398, 0.11336453, 0.12584503,\n",
      "       0.13624545, 0.14534581, 0.15236609, 0.16458658, 0.18434737,\n",
      "       0.2074883 , 0.22724909, 0.25611024, 0.29589184, 0.35179407,\n",
      "       0.44071763, 0.55694228, 0.68356734, 0.82293292, 0.93837754,\n",
      "       0.98959958, 1.        ]), array([2.  , 1.  , 0.95, 0.9 , 0.85, 0.8 , 0.75, 0.7 , 0.65, 0.6 , 0.55,\n",
      "       0.5 , 0.45, 0.4 , 0.35, 0.3 , 0.25, 0.2 , 0.15, 0.1 , 0.05, 0.  ]))\n",
      "AUC 0.6484265032040767\n"
     ]
    }
   ],
   "source": [
    "print(\"ROC\", metrics.roc_curve(y_test,y_pred_proba[:,1]))\n",
    "print(\"AUC\", metrics.roc_auc_score(y_test,y_pred_proba[:,1]))"
   ]
  },
  {
   "cell_type": "markdown",
   "metadata": {},
   "source": [
    "##### 10 fold cross validation"
   ]
  },
  {
   "cell_type": "code",
   "execution_count": 100,
   "metadata": {},
   "outputs": [
    {
     "name": "stdout",
     "output_type": "stream",
     "text": [
      "Accuracy per fold: \n",
      "Cross Validation score:  [0.80143296 0.80184237 0.80450358 0.80266121 0.79918117 0.7993448\n",
      " 0.8042588  0.80032767 0.79725579 0.79909891]\n",
      "Average accuracy:  0.8009907260662927\n"
     ]
    }
   ],
   "source": [
    "scores = cross_val_score(estimator= KNeighborsClassifier(n_neighbors = 20, weights='uniform', algorithm='auto'),     # Model to test\n",
    "                X= Features,  \n",
    "                y = Labels,      # Target variable\n",
    "                scoring = \"accuracy\",               # Scoring metric    \n",
    "                cv=10)                              # Cross validation folds\n",
    "\n",
    "print(\"Accuracy per fold: \")\n",
    "print(\"Cross Validation score: \", scores)\n",
    "print(\"Average accuracy: \", scores.mean())\n",
    "model_accuracy['10 CV Score-KNN Classifier neighbors-20'] = scores.mean()"
   ]
  },
  {
   "cell_type": "markdown",
   "metadata": {},
   "source": [
    "## Ensemble model - Bagging"
   ]
  },
  {
   "cell_type": "code",
   "execution_count": 101,
   "metadata": {},
   "outputs": [
    {
     "name": "stdout",
     "output_type": "stream",
     "text": [
      "Accuracy score 0.7941158405503348\n"
     ]
    }
   ],
   "source": [
    "bag_LR = BaggingClassifier(LogisticRegression(),\n",
    "                            n_estimators=10, max_samples=0.5,\n",
    "                            bootstrap=True, random_state=3) \n",
    "\n",
    "bag_LR.fit(x_train,y_train)\n",
    "y_pred = bag_LR.predict(x_test)\n",
    "y_pred_proba = bag_LR.predict_proba(x_test)\n",
    "model_accuracy['Accuracy Score-Bagging-Logistic Regression'] = metrics.accuracy_score(y_test,y_pred)\n",
    "model_accuracy['AUC-Bagging-Logistic Regression'] = metrics.roc_auc_score(y_test,y_pred_proba[:,1])\n",
    "print(\"Accuracy score\", metrics.accuracy_score(y_test,y_pred))"
   ]
  },
  {
   "cell_type": "code",
   "execution_count": 102,
   "metadata": {},
   "outputs": [
    {
     "name": "stdout",
     "output_type": "stream",
     "text": [
      "Confusion metrix:  [[11825   610]\n",
      " [ 2742  1104]]\n",
      "ROC:  (array([0.        , 0.        , 0.        , ..., 0.99863289, 0.99863289,\n",
      "       1.        ]), array([2.60010400e-04, 3.38013521e-03, 4.16016641e-03, ...,\n",
      "       9.99739990e-01, 1.00000000e+00, 1.00000000e+00]), array([1.        , 1.        , 1.        , ..., 0.05427653, 0.05000936,\n",
      "       0.01052552]))\n",
      "AUC:  0.7154527620590148\n"
     ]
    }
   ],
   "source": [
    "print(\"Confusion metrix: \", metrics.confusion_matrix(y_test,y_pred))\n",
    "print(\"ROC: \",metrics.roc_curve(y_test,y_pred_proba[:,1]))\n",
    "print(\"AUC: \",metrics.roc_auc_score(y_test,y_pred_proba[:,1]))"
   ]
  },
  {
   "cell_type": "markdown",
   "metadata": {},
   "source": [
    "#### Bagging with KNN model"
   ]
  },
  {
   "cell_type": "code",
   "execution_count": 103,
   "metadata": {},
   "outputs": [
    {
     "name": "stdout",
     "output_type": "stream",
     "text": [
      "Accuracy Score:  0.7989067010625883\n"
     ]
    }
   ],
   "source": [
    "bag_KNN = BaggingClassifier(KNeighborsClassifier(n_neighbors = 20, weights='uniform', algorithm='auto'),\n",
    "                            n_estimators=10, max_samples=0.5,\n",
    "                            bootstrap=True, random_state=3) \n",
    "\n",
    "bag_KNN.fit(x_train,y_train)\n",
    "y_pred = bag_KNN.predict(x_test)\n",
    "y_pred_proba = bag_KNN.predict_proba(x_test)\n",
    "print(\"Accuracy Score: \", metrics.accuracy_score(y_test, y_pred))\n",
    "model_accuracy['Accuracy Score-Bagging-KNN neighbors -20'] = metrics.accuracy_score(y_test,y_pred)\n",
    "model_accuracy['AUC-Bagging-KNN neighbors -20'] = metrics.roc_auc_score(y_test,y_pred_proba[:,1])"
   ]
  },
  {
   "cell_type": "markdown",
   "metadata": {},
   "source": [
    "#### Random forrest classifier model"
   ]
  },
  {
   "cell_type": "code",
   "execution_count": 104,
   "metadata": {},
   "outputs": [
    {
     "name": "stdout",
     "output_type": "stream",
     "text": [
      "accuracy of Random Forest Classifier : 0.8483508384005897\n"
     ]
    }
   ],
   "source": [
    "RF = RandomForestClassifier()\n",
    "RF.fit(x_train,y_train)\n",
    "y_pred = RF.predict(x_test)\n",
    "y_pred_proba = RF.predict_proba(x_test)\n",
    "print(\"accuracy of Random Forest Classifier :\",metrics.accuracy_score(y_test, y_pred))\n",
    "model_accuracy['Accuracy score of Random Forest Classifier'] = metrics.accuracy_score(y_test, y_pred)"
   ]
  },
  {
   "cell_type": "code",
   "execution_count": 105,
   "metadata": {},
   "outputs": [
    {
     "name": "stdout",
     "output_type": "stream",
     "text": [
      "Confusion metrix:  [[11645   790]\n",
      " [ 1679  2167]]\n",
      "ROC:  (array([0.        , 0.00337756, 0.01045436, 0.02147165, 0.02155207,\n",
      "       0.03988741, 0.06353036, 0.09802975, 0.09811017, 0.13960595,\n",
      "       0.13960595, 0.19517491, 0.19517491, 0.27462807, 0.41552071,\n",
      "       1.        ]), array([0.        , 0.22074883, 0.3224129 , 0.40275611, 0.40275611,\n",
      "       0.48153926, 0.56344254, 0.64664587, 0.64664587, 0.73166927,\n",
      "       0.73192928, 0.80707228, 0.80733229, 0.87805512, 0.93889756,\n",
      "       1.        ]), array([2.        , 1.        , 0.9       , 0.8       , 0.73333333,\n",
      "       0.7       , 0.6       , 0.5       , 0.46666667, 0.4       ,\n",
      "       0.34285714, 0.3       , 0.23333333, 0.2       , 0.1       ,\n",
      "       0.        ]))\n",
      "AUC:  0.8806401504150234\n"
     ]
    }
   ],
   "source": [
    "print(\"Confusion metrix: \", metrics.confusion_matrix(y_test,y_pred))\n",
    "print(\"ROC: \",metrics.roc_curve(y_test,y_pred_proba[:,1]))\n",
    "print(\"AUC: \",metrics.roc_auc_score(y_test,y_pred_proba[:,1]))"
   ]
  },
  {
   "cell_type": "code",
   "execution_count": 106,
   "metadata": {},
   "outputs": [
    {
     "name": "stdout",
     "output_type": "stream",
     "text": [
      "Accuracy per fold: \n",
      "Cross Validation score:  [0.84892528 0.8468782  0.84728762 0.85486182 0.84994882 0.85298935\n",
      " 0.8490991  0.85398321 0.84722507 0.85459758]\n",
      "Average accuracy:  0.8505796049164012\n"
     ]
    }
   ],
   "source": [
    "scores = cross_val_score(estimator= RandomForestClassifier(),     # Model to test\n",
    "                X= Features,  \n",
    "                y = Labels,      # Target variable\n",
    "                scoring = \"accuracy\",               # Scoring metric    \n",
    "                cv=10)                              # Cross validation folds\n",
    "\n",
    "print(\"Accuracy per fold: \")\n",
    "print(\"Cross Validation score: \", scores)\n",
    "print(\"Average accuracy: \", scores.mean())\n",
    "model_accuracy['10 CV Score-Random Forest Classifier'] = scores.mean()"
   ]
  },
  {
   "cell_type": "markdown",
   "metadata": {},
   "source": [
    "## Ensemble model - Boosting"
   ]
  },
  {
   "cell_type": "code",
   "execution_count": 107,
   "metadata": {},
   "outputs": [
    {
     "name": "stdout",
     "output_type": "stream",
     "text": [
      "accuracy of XGBoost : 0.8499477919046742\n"
     ]
    },
    {
     "name": "stderr",
     "output_type": "stream",
     "text": [
      "/Applications/anaconda3/lib/python3.6/site-packages/sklearn/preprocessing/label.py:151: DeprecationWarning: The truth value of an empty array is ambiguous. Returning False, but in future this will result in an error. Use `array.size > 0` to check that an array is not empty.\n",
      "  if diff:\n"
     ]
    }
   ],
   "source": [
    "from xgboost.sklearn import XGBClassifier\n",
    "#set the parameters for the xgbosst model\n",
    "params = {\n",
    "    'objective': 'binary:logistic',\n",
    "    'max_depth': 2,\n",
    "    'learning_rate': 1.0,\n",
    "    'silent': 1.0,\n",
    "    'n_estimators': 5\n",
    "}\n",
    "params['eval_metric'] = ['logloss', 'auc']\n",
    "bst = XGBClassifier(**params).fit(x_train,y_train)\n",
    "y_pred = bst.predict(x_test)\n",
    "y_pred_proba = bst.predict_proba(x_test)\n",
    "print(\"accuracy of XGBoost :\",metrics.accuracy_score(y_test, y_pred))"
   ]
  },
  {
   "cell_type": "code",
   "execution_count": 108,
   "metadata": {},
   "outputs": [
    {
     "name": "stdout",
     "output_type": "stream",
     "text": [
      "Confusion metrix:  [[11544   891]\n",
      " [ 1552  2294]]\n",
      "ROC:  (array([0.00000000e+00, 0.00000000e+00, 8.04181745e-05, 1.60836349e-04,\n",
      "       1.60836349e-04, 1.60836349e-04, 1.60836349e-04, 1.60836349e-04,\n",
      "       1.60836349e-04, 2.41254524e-04, 2.41254524e-04, 2.41254524e-04,\n",
      "       2.41254524e-04, 3.21672698e-04, 3.21672698e-04, 4.02090873e-04,\n",
      "       4.02090873e-04, 4.02090873e-04, 4.02090873e-04, 4.02090873e-04,\n",
      "       4.02090873e-04, 7.23763571e-04, 8.04181745e-04, 8.04181745e-04,\n",
      "       8.04181745e-04, 8.04181745e-04, 8.04181745e-04, 8.84599920e-04,\n",
      "       8.84599920e-04, 8.84599920e-04, 8.84599920e-04, 8.84599920e-04,\n",
      "       8.84599920e-04, 9.65018094e-04, 9.65018094e-04, 9.65018094e-04,\n",
      "       9.65018094e-04, 1.72899075e-02, 1.72899075e-02, 1.72899075e-02,\n",
      "       1.73703257e-02, 1.74507439e-02, 1.79332529e-02, 1.79332529e-02,\n",
      "       1.80136711e-02, 1.80940893e-02, 1.84961801e-02, 2.05066345e-02,\n",
      "       2.05066345e-02, 2.05870527e-02, 2.05870527e-02, 2.09087254e-02,\n",
      "       3.77161238e-02, 3.78769602e-02, 3.78769602e-02, 3.79573784e-02,\n",
      "       3.79573784e-02, 3.79573784e-02, 3.80377965e-02, 3.81986329e-02,\n",
      "       3.98874146e-02, 4.02895054e-02, 4.18978689e-02, 4.20587053e-02,\n",
      "       4.20587053e-02, 4.22195416e-02, 4.22195416e-02, 4.29433052e-02,\n",
      "       4.33453961e-02, 4.34258142e-02, 4.84921592e-02, 7.15721753e-02,\n",
      "       7.16525935e-02, 7.17330117e-02, 7.18134298e-02, 7.22959389e-02,\n",
      "       7.81664656e-02, 8.09811017e-02, 8.13831926e-02, 8.17048653e-02,\n",
      "       8.22677925e-02, 8.29111379e-02, 8.34740651e-02, 8.34740651e-02,\n",
      "       8.37957378e-02, 8.40369924e-02, 8.44390832e-02, 8.44390832e-02,\n",
      "       9.24809007e-02, 1.26015279e-01, 1.26578207e-01, 1.26819461e-01,\n",
      "       1.27462807e-01, 1.27784479e-01, 1.27864897e-01, 1.31724970e-01,\n",
      "       1.62525131e-01, 1.65259349e-01, 1.65661439e-01, 1.65822276e-01,\n",
      "       1.66143949e-01, 1.66304785e-01, 1.66304785e-01, 1.66948130e-01,\n",
      "       1.67189385e-01, 1.68395657e-01, 1.72899075e-01, 1.76517893e-01,\n",
      "       1.88661037e-01, 1.89465219e-01, 2.53960595e-01, 2.56775231e-01,\n",
      "       2.57096904e-01, 2.57257740e-01, 2.57257740e-01, 3.00603136e-01,\n",
      "       3.00683554e-01, 3.06312827e-01, 3.07358263e-01, 3.14113390e-01,\n",
      "       3.14917571e-01, 3.14997990e-01, 3.20546844e-01, 3.20788098e-01,\n",
      "       3.21190189e-01, 3.57780458e-01, 3.57941295e-01, 3.58665058e-01,\n",
      "       3.85846401e-01, 3.96542018e-01, 3.96702855e-01, 3.97909127e-01,\n",
      "       5.02613591e-01, 5.03498191e-01, 5.04061118e-01, 5.30679534e-01,\n",
      "       5.37112988e-01, 5.37193406e-01, 5.41616405e-01, 6.47205468e-01,\n",
      "       6.68837957e-01, 7.54322477e-01, 7.68315239e-01, 8.09408926e-01,\n",
      "       8.89264174e-01, 8.93606755e-01, 9.49899477e-01, 1.00000000e+00]), array([0.00442018, 0.00780031, 0.01118045, 0.02600104, 0.04680187,\n",
      "       0.04810192, 0.04888196, 0.04914197, 0.09360374, 0.09854394,\n",
      "       0.100104  , 0.10036401, 0.1149246 , 0.12818513, 0.14014561,\n",
      "       0.14378575, 0.14404576, 0.1723869 , 0.17394696, 0.17446698,\n",
      "       0.17550702, 0.17914717, 0.18928757, 0.19058762, 0.19084763,\n",
      "       0.19214769, 0.199948  , 0.21138846, 0.21294852, 0.21450858,\n",
      "       0.2150286 , 0.21606864, 0.21632865, 0.21632865, 0.21736869,\n",
      "       0.21814873, 0.2199688 , 0.34451378, 0.34555382, 0.35127405,\n",
      "       0.35309412, 0.36427457, 0.36453458, 0.36479459, 0.37077483,\n",
      "       0.37155486, 0.37155486, 0.38325533, 0.38377535, 0.38481539,\n",
      "       0.38793552, 0.38819553, 0.48673947, 0.48699948, 0.49115965,\n",
      "       0.49141966, 0.49167967, 0.49219969, 0.49219969, 0.49219969,\n",
      "       0.49895996, 0.49973999, 0.50104004, 0.50104004, 0.50156006,\n",
      "       0.50156006, 0.50182007, 0.50234009, 0.5026001 , 0.5026001 ,\n",
      "       0.52886115, 0.59646386, 0.59646386, 0.59672387, 0.59672387,\n",
      "       0.59724389, 0.60556422, 0.6099844 , 0.61024441, 0.61076443,\n",
      "       0.61414457, 0.6149246 , 0.6149246 , 0.61596464, 0.61622465,\n",
      "       0.61622465, 0.61622465, 0.61648466, 0.62662507, 0.68538742,\n",
      "       0.68564743, 0.68564743, 0.68590744, 0.68590744, 0.68590744,\n",
      "       0.69682787, 0.77145086, 0.77431097, 0.77483099, 0.77483099,\n",
      "       0.77535101, 0.77535101, 0.77587103, 0.77587103, 0.77587103,\n",
      "       0.77847114, 0.78159126, 0.78263131, 0.79433177, 0.79459178,\n",
      "       0.86765471, 0.86817473, 0.86843474, 0.86843474, 0.86869475,\n",
      "       0.90873635, 0.90873635, 0.91341654, 0.91419657, 0.91887676,\n",
      "       0.91965679, 0.91965679, 0.92407696, 0.92433697, 0.92485699,\n",
      "       0.93421737, 0.93421737, 0.93421737, 0.93941758, 0.94409776,\n",
      "       0.94409776, 0.9448778 , 0.97555902, 0.97555902, 0.97581903,\n",
      "       0.98049922, 0.98127925, 0.98127925, 0.98205928, 0.99141966,\n",
      "       0.99323973, 0.99713989, 0.9973999 , 0.99791992, 0.99817993,\n",
      "       0.99843994, 0.99947998, 1.        ]), array([0.9919986 , 0.9854268 , 0.98079854, 0.97723365, 0.97429705,\n",
      "       0.9729549 , 0.9728899 , 0.9724752 , 0.9684266 , 0.965349  ,\n",
      "       0.9535574 , 0.95139265, 0.9484209 , 0.9464813 , 0.93982226,\n",
      "       0.9367966 , 0.935718  , 0.9266706 , 0.9255121 , 0.9180218 ,\n",
      "       0.91647404, 0.9119837 , 0.90932876, 0.8987694 , 0.8940044 ,\n",
      "       0.88991714, 0.8872322 , 0.8833927 , 0.87900627, 0.86514777,\n",
      "       0.86259246, 0.8589312 , 0.8562776 , 0.85403883, 0.8418352 ,\n",
      "       0.8397456 , 0.83848095, 0.8382211 , 0.8355164 , 0.8110063 ,\n",
      "       0.81021047, 0.80514157, 0.7829677 , 0.7646776 , 0.7642374 ,\n",
      "       0.756814  , 0.74251264, 0.7246891 , 0.69488156, 0.6915618 ,\n",
      "       0.68343735, 0.6826042 , 0.6809909 , 0.6630312 , 0.63872623,\n",
      "       0.63684833, 0.62467307, 0.6241845 , 0.6195648 , 0.61131805,\n",
      "       0.5999645 , 0.5978039 , 0.5894346 , 0.571111  , 0.5657804 ,\n",
      "       0.555369  , 0.5539956 , 0.54298043, 0.5398036 , 0.5358768 ,\n",
      "       0.52026886, 0.518171  , 0.5069248 , 0.48018757, 0.47040656,\n",
      "       0.46979764, 0.4672125 , 0.46180746, 0.45495635, 0.44771922,\n",
      "       0.44079396, 0.4324427 , 0.42861545, 0.4154312 , 0.39320353,\n",
      "       0.38367742, 0.3799928 , 0.37910601, 0.371662  , 0.36970162,\n",
      "       0.3397667 , 0.32798335, 0.32581607, 0.3232119 , 0.3128395 ,\n",
      "       0.3082001 , 0.3070375 , 0.3035864 , 0.3006607 , 0.29754388,\n",
      "       0.29357058, 0.26554474, 0.262628  , 0.26062247, 0.24577254,\n",
      "       0.24514744, 0.23739447, 0.23609225, 0.23458   , 0.20160376,\n",
      "       0.19462723, 0.19208936, 0.18577899, 0.18342924, 0.17450911,\n",
      "       0.17423302, 0.16266012, 0.15398611, 0.15187825, 0.15117648,\n",
      "       0.1504756 , 0.14549029, 0.14514099, 0.11770657, 0.11546856,\n",
      "       0.1121117 , 0.11067278, 0.11050218, 0.10320294, 0.08853811,\n",
      "       0.08471004, 0.08148331, 0.07997835, 0.06817476, 0.06646687,\n",
      "       0.05755954, 0.05671857, 0.05089633, 0.04830324, 0.04526696,\n",
      "       0.03447929, 0.03376318, 0.0322372 , 0.02417451, 0.01870189,\n",
      "       0.01710727, 0.01415117, 0.00985978], dtype=float32))\n",
      "AUC:  0.8946264308151739\n"
     ]
    }
   ],
   "source": [
    "print(\"Confusion metrix: \", metrics.confusion_matrix(y_test,y_pred))\n",
    "print(\"ROC: \",metrics.roc_curve(y_test,y_pred_proba[:,1]))\n",
    "print(\"AUC: \",metrics.roc_auc_score(y_test,y_pred_proba[:,1]))"
   ]
  },
  {
   "cell_type": "code",
   "execution_count": 109,
   "metadata": {},
   "outputs": [],
   "source": [
    "model_accuracy['AUC for XGBOOST model'] = metrics.roc_auc_score(y_test,y_pred_proba[:,1])"
   ]
  },
  {
   "cell_type": "markdown",
   "metadata": {},
   "source": [
    "## Important feature selection"
   ]
  },
  {
   "cell_type": "code",
   "execution_count": 110,
   "metadata": {},
   "outputs": [
    {
     "data": {
      "text/html": [
       "<div>\n",
       "<style scoped>\n",
       "    .dataframe tbody tr th:only-of-type {\n",
       "        vertical-align: middle;\n",
       "    }\n",
       "\n",
       "    .dataframe tbody tr th {\n",
       "        vertical-align: top;\n",
       "    }\n",
       "\n",
       "    .dataframe thead th {\n",
       "        text-align: right;\n",
       "    }\n",
       "</style>\n",
       "<table border=\"1\" class=\"dataframe\">\n",
       "  <thead>\n",
       "    <tr style=\"text-align: right;\">\n",
       "      <th></th>\n",
       "      <th>Feature</th>\n",
       "      <th>Rank</th>\n",
       "    </tr>\n",
       "  </thead>\n",
       "  <tbody>\n",
       "    <tr>\n",
       "      <th>0</th>\n",
       "      <td>age</td>\n",
       "      <td>1</td>\n",
       "    </tr>\n",
       "    <tr>\n",
       "      <th>1</th>\n",
       "      <td>workclass</td>\n",
       "      <td>1</td>\n",
       "    </tr>\n",
       "    <tr>\n",
       "      <th>2</th>\n",
       "      <td>fnlwgt</td>\n",
       "      <td>1</td>\n",
       "    </tr>\n",
       "    <tr>\n",
       "      <th>3</th>\n",
       "      <td>education</td>\n",
       "      <td>2</td>\n",
       "    </tr>\n",
       "    <tr>\n",
       "      <th>4</th>\n",
       "      <td>education_num</td>\n",
       "      <td>1</td>\n",
       "    </tr>\n",
       "    <tr>\n",
       "      <th>5</th>\n",
       "      <td>marital_status</td>\n",
       "      <td>1</td>\n",
       "    </tr>\n",
       "    <tr>\n",
       "      <th>6</th>\n",
       "      <td>occupation</td>\n",
       "      <td>1</td>\n",
       "    </tr>\n",
       "    <tr>\n",
       "      <th>7</th>\n",
       "      <td>relationship</td>\n",
       "      <td>1</td>\n",
       "    </tr>\n",
       "    <tr>\n",
       "      <th>8</th>\n",
       "      <td>race</td>\n",
       "      <td>3</td>\n",
       "    </tr>\n",
       "    <tr>\n",
       "      <th>9</th>\n",
       "      <td>sex</td>\n",
       "      <td>4</td>\n",
       "    </tr>\n",
       "    <tr>\n",
       "      <th>10</th>\n",
       "      <td>capital_gain</td>\n",
       "      <td>1</td>\n",
       "    </tr>\n",
       "    <tr>\n",
       "      <th>11</th>\n",
       "      <td>capital_loss</td>\n",
       "      <td>1</td>\n",
       "    </tr>\n",
       "    <tr>\n",
       "      <th>12</th>\n",
       "      <td>hours_per_week</td>\n",
       "      <td>1</td>\n",
       "    </tr>\n",
       "    <tr>\n",
       "      <th>13</th>\n",
       "      <td>native_country</td>\n",
       "      <td>1</td>\n",
       "    </tr>\n",
       "  </tbody>\n",
       "</table>\n",
       "</div>"
      ],
      "text/plain": [
       "           Feature  Rank\n",
       "0              age     1\n",
       "1        workclass     1\n",
       "2           fnlwgt     1\n",
       "3        education     2\n",
       "4    education_num     1\n",
       "5   marital_status     1\n",
       "6       occupation     1\n",
       "7     relationship     1\n",
       "8             race     3\n",
       "9              sex     4\n",
       "10    capital_gain     1\n",
       "11    capital_loss     1\n",
       "12  hours_per_week     1\n",
       "13  native_country     1"
      ]
     },
     "execution_count": 110,
     "metadata": {},
     "output_type": "execute_result"
    }
   ],
   "source": [
    "selector =  RFECV(estimator=RandomForestClassifier(), step=1,cv=10)\n",
    "selector.fit(Features,Labels)\n",
    "ranks = selector.ranking_.tolist()\n",
    "df_rank_cv = pd.DataFrame({'Feature':Features.columns,'Rank':ranks})\n",
    "df_rank_cv"
   ]
  },
  {
   "cell_type": "code",
   "execution_count": 111,
   "metadata": {},
   "outputs": [
    {
     "name": "stdout",
     "output_type": "stream",
     "text": [
      "The important Features in the sample data after REFCV are as follows :-\n",
      " ['age' 'workclass' 'fnlwgt' 'education_num' 'marital_status' 'occupation'\n",
      " 'relationship' 'capital_gain' 'capital_loss' 'hours_per_week'\n",
      " 'native_country']\n"
     ]
    }
   ],
   "source": [
    "impcvRF= df_rank_cv.Feature[df_rank_cv.Rank == 1]\n",
    "print(\"The important Features in the sample data after REFCV are as follows :-\\n\",impcvRF.values)"
   ]
  },
  {
   "cell_type": "markdown",
   "metadata": {},
   "source": [
    "## Evaluation of highest accuracy of classification model for this data"
   ]
  },
  {
   "cell_type": "code",
   "execution_count": 112,
   "metadata": {},
   "outputs": [
    {
     "data": {
      "text/html": [
       "<div>\n",
       "<style scoped>\n",
       "    .dataframe tbody tr th:only-of-type {\n",
       "        vertical-align: middle;\n",
       "    }\n",
       "\n",
       "    .dataframe tbody tr th {\n",
       "        vertical-align: top;\n",
       "    }\n",
       "\n",
       "    .dataframe thead th {\n",
       "        text-align: right;\n",
       "    }\n",
       "</style>\n",
       "<table border=\"1\" class=\"dataframe\">\n",
       "  <thead>\n",
       "    <tr style=\"text-align: right;\">\n",
       "      <th></th>\n",
       "      <th>Features</th>\n",
       "      <th>Scores</th>\n",
       "    </tr>\n",
       "  </thead>\n",
       "  <tbody>\n",
       "    <tr>\n",
       "      <th>0</th>\n",
       "      <td>Logistic Regression</td>\n",
       "      <td>0.795590</td>\n",
       "    </tr>\n",
       "    <tr>\n",
       "      <th>1</th>\n",
       "      <td>AUC_Logistic_Regression</td>\n",
       "      <td>0.700277</td>\n",
       "    </tr>\n",
       "    <tr>\n",
       "      <th>2</th>\n",
       "      <td>10 CV Score-Logistic Regression</td>\n",
       "      <td>0.855370</td>\n",
       "    </tr>\n",
       "    <tr>\n",
       "      <th>3</th>\n",
       "      <td>AUC of Decision tree classifier of depth 10</td>\n",
       "      <td>0.892387</td>\n",
       "    </tr>\n",
       "    <tr>\n",
       "      <th>4</th>\n",
       "      <td>Accuracy Score of KNN Classifier neigbors-20</td>\n",
       "      <td>0.803083</td>\n",
       "    </tr>\n",
       "    <tr>\n",
       "      <th>5</th>\n",
       "      <td>AUC of KNN Classifier neighbors-20</td>\n",
       "      <td>0.648427</td>\n",
       "    </tr>\n",
       "    <tr>\n",
       "      <th>6</th>\n",
       "      <td>10 CV Score-KNN Classifier neighbors-20</td>\n",
       "      <td>0.800991</td>\n",
       "    </tr>\n",
       "    <tr>\n",
       "      <th>7</th>\n",
       "      <td>Accuracy Score-Bagging-Logistic Regression</td>\n",
       "      <td>0.794116</td>\n",
       "    </tr>\n",
       "    <tr>\n",
       "      <th>8</th>\n",
       "      <td>AUC-Bagging-Logistic Regression</td>\n",
       "      <td>0.715453</td>\n",
       "    </tr>\n",
       "    <tr>\n",
       "      <th>9</th>\n",
       "      <td>Accuracy Score-Bagging-KNN neighbors -20</td>\n",
       "      <td>0.798907</td>\n",
       "    </tr>\n",
       "    <tr>\n",
       "      <th>10</th>\n",
       "      <td>AUC-Bagging-KNN neighbors -20</td>\n",
       "      <td>0.635668</td>\n",
       "    </tr>\n",
       "    <tr>\n",
       "      <th>11</th>\n",
       "      <td>Accuracy score of Random Forest Classifier</td>\n",
       "      <td>0.848351</td>\n",
       "    </tr>\n",
       "    <tr>\n",
       "      <th>12</th>\n",
       "      <td>10 CV Score-Random Forest Classifier</td>\n",
       "      <td>0.850580</td>\n",
       "    </tr>\n",
       "    <tr>\n",
       "      <th>13</th>\n",
       "      <td>AUC for XGBOOST model</td>\n",
       "      <td>0.894626</td>\n",
       "    </tr>\n",
       "  </tbody>\n",
       "</table>\n",
       "</div>"
      ],
      "text/plain": [
       "                                        Features    Scores\n",
       "0                            Logistic Regression  0.795590\n",
       "1                        AUC_Logistic_Regression  0.700277\n",
       "2                10 CV Score-Logistic Regression  0.855370\n",
       "3    AUC of Decision tree classifier of depth 10  0.892387\n",
       "4   Accuracy Score of KNN Classifier neigbors-20  0.803083\n",
       "5             AUC of KNN Classifier neighbors-20  0.648427\n",
       "6        10 CV Score-KNN Classifier neighbors-20  0.800991\n",
       "7     Accuracy Score-Bagging-Logistic Regression  0.794116\n",
       "8                AUC-Bagging-Logistic Regression  0.715453\n",
       "9       Accuracy Score-Bagging-KNN neighbors -20  0.798907\n",
       "10                 AUC-Bagging-KNN neighbors -20  0.635668\n",
       "11    Accuracy score of Random Forest Classifier  0.848351\n",
       "12          10 CV Score-Random Forest Classifier  0.850580\n",
       "13                         AUC for XGBOOST model  0.894626"
      ]
     },
     "execution_count": 112,
     "metadata": {},
     "output_type": "execute_result"
    }
   ],
   "source": [
    "features = []\n",
    "scores = []\n",
    "for k,v in model_accuracy.items():\n",
    "    features.append(k)\n",
    "    scores.append(v)\n",
    "df_scores = pd.DataFrame({'Features':features,'Scores':scores})\n",
    "feat_cols = ['Features','Scores']\n",
    "df_scores = df_scores[feat_cols]\n",
    "df_scores"
   ]
  },
  {
   "cell_type": "markdown",
   "metadata": {},
   "source": [
    "From the AUC score, it is evident that Decision tree with depth 10 and XGBoost model has the highest accuracy for model performance"
   ]
  },
  {
   "cell_type": "code",
   "execution_count": null,
   "metadata": {},
   "outputs": [],
   "source": []
  }
 ],
 "metadata": {
  "kernelspec": {
   "display_name": "Python 3",
   "language": "python",
   "name": "python3"
  },
  "language_info": {
   "codemirror_mode": {
    "name": "ipython",
    "version": 3
   },
   "file_extension": ".py",
   "mimetype": "text/x-python",
   "name": "python",
   "nbconvert_exporter": "python",
   "pygments_lexer": "ipython3",
   "version": "3.6.4"
  }
 },
 "nbformat": 4,
 "nbformat_minor": 2
}
